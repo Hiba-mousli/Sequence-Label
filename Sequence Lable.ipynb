{
 "cells": [
  {
   "cell_type": "markdown",
   "id": "HIPzLudKv9k8",
   "metadata": {
    "id": "HIPzLudKv9k8"
   },
   "source": [
    "<h1 style=\"text-align: center;\">Sequence Labeling<h1>"
   ]
  },
  {
   "cell_type": "markdown",
   "id": "e7efe140",
   "metadata": {
    "id": "e7efe140"
   },
   "source": [
    "Prepare libraries"
   ]
  },
  {
   "cell_type": "code",
   "execution_count": 5,
   "id": "af6058ed",
   "metadata": {
    "executionInfo": {
     "elapsed": 6,
     "status": "ok",
     "timestamp": 1702380289561,
     "user": {
      "displayName": "Ola Tabbal",
      "userId": "04260309330816471542"
     },
     "user_tz": -180
    },
    "id": "af6058ed"
   },
   "outputs": [],
   "source": [
    "# here put every import you need e.g. import nltk\n",
    "# it's better to load what you need from the package by from [] import [] instead of import the whole package\n",
    "import wget\n",
    "import pandas as pd\n",
    "import numpy as np\n",
    "from sklearn.model_selection import train_test_split\n",
    "from tokenization import tokenize\n",
    "import nltk\n",
    "from nltk.tag import UnigramTagger\n",
    "from nltk.probability import FreqDist, ConditionalFreqDist\n",
    "from sklearn.feature_extraction.text import TfidfVectorizer\n",
    "\n",
    "from sklearn.naive_bayes  import MultinomialNB\n",
    "from sklearn.feature_extraction import DictVectorizer\n",
    "import datetime\n",
    "from keras.backend import clear_session\n",
    "\n",
    "from sklearn.linear_model import LogisticRegression"
   ]
  },
  {
   "cell_type": "markdown",
   "id": "229df102",
   "metadata": {
    "id": "229df102"
   },
   "source": [
    "Download data"
   ]
  },
  {
   "cell_type": "code",
   "execution_count": 6,
   "id": "07ada1d9",
   "metadata": {},
   "outputs": [
    {
     "name": "stdout",
     "output_type": "stream",
     "text": [
      "100% [..........................................................................] 1213699 / 1213699"
     ]
    },
    {
     "data": {
      "text/plain": [
       "'IOB (1).csv'"
      ]
     },
     "execution_count": 6,
     "metadata": {},
     "output_type": "execute_result"
    }
   ],
   "source": [
    "url = 'https://drive.google.com/uc?export=download&id=1-3JRPU4aq9t_RRujrJ1HpmAPUbRe0QYK'\n",
    "output_file = 'IOB.csv'\n",
    "\n",
    "wget.download(url, out=output_file)"
   ]
  },
  {
   "cell_type": "markdown",
   "id": "3400638b",
   "metadata": {
    "id": "3400638b"
   },
   "source": [
    "# Data Preparation"
   ]
  },
  {
   "cell_type": "markdown",
   "id": "2Dsrcp-Av9lO",
   "metadata": {
    "id": "2Dsrcp-Av9lO"
   },
   "source": [
    "## [1.1]"
   ]
  },
  {
   "cell_type": "code",
   "execution_count": 10,
   "id": "imMtzZ7iv9lO",
   "metadata": {
    "id": "imMtzZ7iv9lO"
   },
   "outputs": [
    {
     "data": {
      "text/html": [
       "<div>\n",
       "<style scoped>\n",
       "    .dataframe tbody tr th:only-of-type {\n",
       "        vertical-align: middle;\n",
       "    }\n",
       "\n",
       "    .dataframe tbody tr th {\n",
       "        vertical-align: top;\n",
       "    }\n",
       "\n",
       "    .dataframe thead th {\n",
       "        text-align: right;\n",
       "    }\n",
       "</style>\n",
       "<table border=\"1\" class=\"dataframe\">\n",
       "  <thead>\n",
       "    <tr style=\"text-align: right;\">\n",
       "      <th></th>\n",
       "      <th>Word i</th>\n",
       "      <th>Word i entity tag</th>\n",
       "      <th>Word i POS</th>\n",
       "      <th>Stopword</th>\n",
       "    </tr>\n",
       "  </thead>\n",
       "  <tbody>\n",
       "    <tr>\n",
       "      <th>0</th>\n",
       "      <td>إن</td>\n",
       "      <td>O</td>\n",
       "      <td>verb_pseudo</td>\n",
       "      <td>yes</td>\n",
       "    </tr>\n",
       "    <tr>\n",
       "      <th>1</th>\n",
       "      <td>اللوكيميا</td>\n",
       "      <td>B</td>\n",
       "      <td>noun</td>\n",
       "      <td>no</td>\n",
       "    </tr>\n",
       "    <tr>\n",
       "      <th>2</th>\n",
       "      <td>أو</td>\n",
       "      <td>O</td>\n",
       "      <td>conj</td>\n",
       "      <td>yes</td>\n",
       "    </tr>\n",
       "    <tr>\n",
       "      <th>3</th>\n",
       "      <td>(</td>\n",
       "      <td>O</td>\n",
       "      <td>punc</td>\n",
       "      <td>no</td>\n",
       "    </tr>\n",
       "    <tr>\n",
       "      <th>4</th>\n",
       "      <td>ابيضاض</td>\n",
       "      <td>B</td>\n",
       "      <td>noun</td>\n",
       "      <td>no</td>\n",
       "    </tr>\n",
       "  </tbody>\n",
       "</table>\n",
       "</div>"
      ],
      "text/plain": [
       "      Word i Word i entity tag   Word i POS Stopword\n",
       "0         إن                 O  verb_pseudo      yes\n",
       "1  اللوكيميا                 B         noun       no\n",
       "2         أو                 O         conj      yes\n",
       "3          (                 O         punc       no\n",
       "4     ابيضاض                 B         noun       no"
      ]
     },
     "execution_count": 10,
     "metadata": {},
     "output_type": "execute_result"
    }
   ],
   "source": [
    "iob = pd.read_csv('IOB.csv', encoding='utf-8')\n",
    "\n",
    "iob_df = pd.DataFrame({'Word i': iob['Word i'],\n",
    "                       'Word i entity tag': iob['Word i entity tag'],\n",
    "                       'Word i POS': iob['Word i POS'],\n",
    "                       'Stopword': iob['Stopword']})\n",
    "\n",
    "iob_df.head()"
   ]
  },
  {
   "cell_type": "code",
   "execution_count": 11,
   "id": "b9d22284",
   "metadata": {},
   "outputs": [
    {
     "name": "stdout",
     "output_type": "stream",
     "text": [
      "0           (إن, O)\n",
      "1    (اللوكيميا, B)\n",
      "2           (أو, O)\n",
      "3            ((, O)\n",
      "4       (ابيضاض, B)\n",
      "5         (الدم, I)\n",
      "6            (), O)\n",
      "7           (هو, O)\n",
      "8        (سرطان, B)\n",
      "9        (خلايا, I)\n",
      "Name: tuples, dtype: object\n"
     ]
    }
   ],
   "source": [
    "iob_df['tuples'] = iob_df.apply(lambda row: (row['Word i'], row['Word i entity tag']), axis=1)\n",
    "\n",
    "print(iob_df['tuples'].head(10))"
   ]
  },
  {
   "cell_type": "markdown",
   "id": "wzvySosGv9lP",
   "metadata": {
    "id": "wzvySosGv9lP"
   },
   "source": [
    "## [1.2]"
   ]
  },
  {
   "cell_type": "code",
   "execution_count": 12,
   "id": "4d8914dd",
   "metadata": {},
   "outputs": [
    {
     "data": {
      "text/html": [
       "<div>\n",
       "<style scoped>\n",
       "    .dataframe tbody tr th:only-of-type {\n",
       "        vertical-align: middle;\n",
       "    }\n",
       "\n",
       "    .dataframe tbody tr th {\n",
       "        vertical-align: top;\n",
       "    }\n",
       "\n",
       "    .dataframe thead th {\n",
       "        text-align: right;\n",
       "    }\n",
       "</style>\n",
       "<table border=\"1\" class=\"dataframe\">\n",
       "  <thead>\n",
       "    <tr style=\"text-align: right;\">\n",
       "      <th></th>\n",
       "      <th>Sentence</th>\n",
       "    </tr>\n",
       "  </thead>\n",
       "  <tbody>\n",
       "    <tr>\n",
       "      <th>0</th>\n",
       "      <td>إن اللوكيميا أو ( ابيضاض الدم ) هو سرطان خلايا...</td>\n",
       "    </tr>\n",
       "    <tr>\n",
       "      <th>1</th>\n",
       "      <td>تتشكل خلايا الدم في نقي العظام , أما في اللوكي...</td>\n",
       "    </tr>\n",
       "    <tr>\n",
       "      <th>2</th>\n",
       "      <td>هناك أنواع مختلفة من اللوكيميا , و تتضمن هذه ا...</td>\n",
       "    </tr>\n",
       "    <tr>\n",
       "      <th>3</th>\n",
       "      <td>بعض أنواع اللوكيميا قابلة ل الشفاء غالبا , أما...</td>\n",
       "    </tr>\n",
       "    <tr>\n",
       "      <th>4</th>\n",
       "      <td>قد تتضمن العلاجات العلاج ب الجرعات الكيميائية ...</td>\n",
       "    </tr>\n",
       "  </tbody>\n",
       "</table>\n",
       "</div>"
      ],
      "text/plain": [
       "                                            Sentence\n",
       "0  إن اللوكيميا أو ( ابيضاض الدم ) هو سرطان خلايا...\n",
       "1  تتشكل خلايا الدم في نقي العظام , أما في اللوكي...\n",
       "2  هناك أنواع مختلفة من اللوكيميا , و تتضمن هذه ا...\n",
       "3  بعض أنواع اللوكيميا قابلة ل الشفاء غالبا , أما...\n",
       "4  قد تتضمن العلاجات العلاج ب الجرعات الكيميائية ..."
      ]
     },
     "execution_count": 12,
     "metadata": {},
     "output_type": "execute_result"
    }
   ],
   "source": [
    "def convert_to_sentences(df):\n",
    "    sentences_list = []\n",
    "    current_sentence = []\n",
    "\n",
    "    for index, row in df.iterrows():\n",
    "        word = row['Word i']\n",
    "        current_sentence.append(word)\n",
    "\n",
    "        # Check for sentence boundary\n",
    "        if word.endswith('.'):\n",
    "            sentences_list.append(' '.join(current_sentence))\n",
    "            current_sentence = []\n",
    "\n",
    "    return sentences_list\n",
    "\n",
    "sentences_list = convert_to_sentences(iob_df)\n",
    "\n",
    "sentences_df = pd.DataFrame({'Sentence': sentences_list})\n",
    "\n",
    "sentences_df.head(5)"
   ]
  },
  {
   "cell_type": "code",
   "execution_count": 13,
   "id": "2b8cee6d",
   "metadata": {},
   "outputs": [],
   "source": [
    "sentences_df['Tokens'] = sentences_df['Sentence'].apply(lambda text: tokenize(text))"
   ]
  },
  {
   "cell_type": "markdown",
   "id": "nh5WzcGtyy2o",
   "metadata": {
    "id": "nh5WzcGtyy2o"
   },
   "source": [
    "## [1.3]"
   ]
  },
  {
   "cell_type": "code",
   "execution_count": 14,
   "id": "IZKWLW28yy27",
   "metadata": {
    "id": "IZKWLW28yy27"
   },
   "outputs": [
    {
     "data": {
      "text/html": [
       "<div>\n",
       "<style scoped>\n",
       "    .dataframe tbody tr th:only-of-type {\n",
       "        vertical-align: middle;\n",
       "    }\n",
       "\n",
       "    .dataframe tbody tr th {\n",
       "        vertical-align: top;\n",
       "    }\n",
       "\n",
       "    .dataframe thead th {\n",
       "        text-align: right;\n",
       "    }\n",
       "</style>\n",
       "<table border=\"1\" class=\"dataframe\">\n",
       "  <thead>\n",
       "    <tr style=\"text-align: right;\">\n",
       "      <th></th>\n",
       "      <th>Sentence</th>\n",
       "      <th>Tokens</th>\n",
       "      <th>tuples_list</th>\n",
       "    </tr>\n",
       "  </thead>\n",
       "  <tbody>\n",
       "    <tr>\n",
       "      <th>0</th>\n",
       "      <td>إن اللوكيميا أو ( ابيضاض الدم ) هو سرطان خلايا...</td>\n",
       "      <td>[إن, اللوكيميا, أو, (, ابيضاض, الدم, ), هو, سر...</td>\n",
       "      <td>[(إن, O), (اللوكيميا, B), (أو, O), ((, O), (اب...</td>\n",
       "    </tr>\n",
       "    <tr>\n",
       "      <th>1</th>\n",
       "      <td>تتشكل خلايا الدم في نقي العظام , أما في اللوكي...</td>\n",
       "      <td>[تتشكل, خلايا, الدم, في, نقي, العظام, ,, أما, ...</td>\n",
       "      <td>[(تتشكل, O), (خلايا, O), (الدم, O), (في, O), (...</td>\n",
       "    </tr>\n",
       "    <tr>\n",
       "      <th>2</th>\n",
       "      <td>هناك أنواع مختلفة من اللوكيميا , و تتضمن هذه ا...</td>\n",
       "      <td>[هناك, أنواع, مختلفة, من, اللوكيميا, ,, و, تتض...</td>\n",
       "      <td>[(هناك, O), (أنواع, O), (مختلفة, O), (من, O), ...</td>\n",
       "    </tr>\n",
       "    <tr>\n",
       "      <th>3</th>\n",
       "      <td>بعض أنواع اللوكيميا قابلة ل الشفاء غالبا , أما...</td>\n",
       "      <td>[ب, عض, أنواع, اللوكيميا, قابلة, ل, الشفاء, غا...</td>\n",
       "      <td>[(بعض, O), (أنواع, O), (اللوكيميا, B), (قابلة,...</td>\n",
       "    </tr>\n",
       "    <tr>\n",
       "      <th>4</th>\n",
       "      <td>قد تتضمن العلاجات العلاج ب الجرعات الكيميائية ...</td>\n",
       "      <td>[قد, تتضمن, العلاجات, العلاج, ب, الجرعات, الكي...</td>\n",
       "      <td>[(قد, O), (تتضمن, O), (العلاجات, O), (العلاج, ...</td>\n",
       "    </tr>\n",
       "  </tbody>\n",
       "</table>\n",
       "</div>"
      ],
      "text/plain": [
       "                                            Sentence  \\\n",
       "0  إن اللوكيميا أو ( ابيضاض الدم ) هو سرطان خلايا...   \n",
       "1  تتشكل خلايا الدم في نقي العظام , أما في اللوكي...   \n",
       "2  هناك أنواع مختلفة من اللوكيميا , و تتضمن هذه ا...   \n",
       "3  بعض أنواع اللوكيميا قابلة ل الشفاء غالبا , أما...   \n",
       "4  قد تتضمن العلاجات العلاج ب الجرعات الكيميائية ...   \n",
       "\n",
       "                                              Tokens  \\\n",
       "0  [إن, اللوكيميا, أو, (, ابيضاض, الدم, ), هو, سر...   \n",
       "1  [تتشكل, خلايا, الدم, في, نقي, العظام, ,, أما, ...   \n",
       "2  [هناك, أنواع, مختلفة, من, اللوكيميا, ,, و, تتض...   \n",
       "3  [ب, عض, أنواع, اللوكيميا, قابلة, ل, الشفاء, غا...   \n",
       "4  [قد, تتضمن, العلاجات, العلاج, ب, الجرعات, الكي...   \n",
       "\n",
       "                                         tuples_list  \n",
       "0  [(إن, O), (اللوكيميا, B), (أو, O), ((, O), (اب...  \n",
       "1  [(تتشكل, O), (خلايا, O), (الدم, O), (في, O), (...  \n",
       "2  [(هناك, O), (أنواع, O), (مختلفة, O), (من, O), ...  \n",
       "3  [(بعض, O), (أنواع, O), (اللوكيميا, B), (قابلة,...  \n",
       "4  [(قد, O), (تتضمن, O), (العلاجات, O), (العلاج, ...  "
      ]
     },
     "execution_count": 14,
     "metadata": {},
     "output_type": "execute_result"
    }
   ],
   "source": [
    "def convert_to_tuples_lists(df):\n",
    "    tuples_lists = []\n",
    "    current_tuples_list = []\n",
    "\n",
    "    for index, row in df.iterrows():\n",
    "        word = row['Word i']\n",
    "        current_tuples_list.append((word, row['Word i entity tag']))\n",
    "\n",
    "        # Check for sentence boundary\n",
    "        if word.endswith('.'):\n",
    "            tuples_lists.append(current_tuples_list)\n",
    "            current_tuples_list = []\n",
    "\n",
    "    return tuples_lists\n",
    "\n",
    "tuples_lists = convert_to_tuples_lists(iob_df)\n",
    "\n",
    "for tuples_list in tuples_lists:\n",
    "    if tuples_list[-1][0] != '.':\n",
    "        tuples_list.append(('.', None))\n",
    "\n",
    "sentences_df['tuples_list'] = tuples_lists\n",
    "\n",
    "sentences_df.head(5)"
   ]
  },
  {
   "cell_type": "markdown",
   "id": "esmPHkuJyzBd",
   "metadata": {
    "id": "esmPHkuJyzBd"
   },
   "source": [
    "## [1.4]"
   ]
  },
  {
   "cell_type": "code",
   "execution_count": 15,
   "id": "HijKuU0nyzBe",
   "metadata": {
    "id": "HijKuU0nyzBe"
   },
   "outputs": [
    {
     "data": {
      "text/html": [
       "<div>\n",
       "<style scoped>\n",
       "    .dataframe tbody tr th:only-of-type {\n",
       "        vertical-align: middle;\n",
       "    }\n",
       "\n",
       "    .dataframe tbody tr th {\n",
       "        vertical-align: top;\n",
       "    }\n",
       "\n",
       "    .dataframe thead th {\n",
       "        text-align: right;\n",
       "    }\n",
       "</style>\n",
       "<table border=\"1\" class=\"dataframe\">\n",
       "  <thead>\n",
       "    <tr style=\"text-align: right;\">\n",
       "      <th></th>\n",
       "      <th>Sentence</th>\n",
       "      <th>Tokens</th>\n",
       "      <th>tuples_list</th>\n",
       "      <th>classification_list</th>\n",
       "    </tr>\n",
       "  </thead>\n",
       "  <tbody>\n",
       "    <tr>\n",
       "      <th>0</th>\n",
       "      <td>إن اللوكيميا أو ( ابيضاض الدم ) هو سرطان خلايا...</td>\n",
       "      <td>[إن, اللوكيميا, أو, (, ابيضاض, الدم, ), هو, سر...</td>\n",
       "      <td>[(إن, O), (اللوكيميا, B), (أو, O), ((, O), (اب...</td>\n",
       "      <td>[O, B, O, O, B, I, O, O, B, I, I, I, O, O, O, ...</td>\n",
       "    </tr>\n",
       "    <tr>\n",
       "      <th>1</th>\n",
       "      <td>تتشكل خلايا الدم في نقي العظام , أما في اللوكي...</td>\n",
       "      <td>[تتشكل, خلايا, الدم, في, نقي, العظام, ,, أما, ...</td>\n",
       "      <td>[(تتشكل, O), (خلايا, O), (الدم, O), (في, O), (...</td>\n",
       "      <td>[O, O, O, O, O, O, O, O, O, B, O, O, O, O, O, ...</td>\n",
       "    </tr>\n",
       "    <tr>\n",
       "      <th>2</th>\n",
       "      <td>هناك أنواع مختلفة من اللوكيميا , و تتضمن هذه ا...</td>\n",
       "      <td>[هناك, أنواع, مختلفة, من, اللوكيميا, ,, و, تتض...</td>\n",
       "      <td>[(هناك, O), (أنواع, O), (مختلفة, O), (من, O), ...</td>\n",
       "      <td>[O, O, O, O, B, O, O, O, O, O, O, B, I, I, B, ...</td>\n",
       "    </tr>\n",
       "    <tr>\n",
       "      <th>3</th>\n",
       "      <td>بعض أنواع اللوكيميا قابلة ل الشفاء غالبا , أما...</td>\n",
       "      <td>[ب, عض, أنواع, اللوكيميا, قابلة, ل, الشفاء, غا...</td>\n",
       "      <td>[(بعض, O), (أنواع, O), (اللوكيميا, B), (قابلة,...</td>\n",
       "      <td>[O, O, B, O, O, O, O, O, O, O, O, O, O, O, O, ...</td>\n",
       "    </tr>\n",
       "    <tr>\n",
       "      <th>4</th>\n",
       "      <td>قد تتضمن العلاجات العلاج ب الجرعات الكيميائية ...</td>\n",
       "      <td>[قد, تتضمن, العلاجات, العلاج, ب, الجرعات, الكي...</td>\n",
       "      <td>[(قد, O), (تتضمن, O), (العلاجات, O), (العلاج, ...</td>\n",
       "      <td>[O, O, O, O, O, O, O, O, O, O, O, O, O, O, O, ...</td>\n",
       "    </tr>\n",
       "  </tbody>\n",
       "</table>\n",
       "</div>"
      ],
      "text/plain": [
       "                                            Sentence  \\\n",
       "0  إن اللوكيميا أو ( ابيضاض الدم ) هو سرطان خلايا...   \n",
       "1  تتشكل خلايا الدم في نقي العظام , أما في اللوكي...   \n",
       "2  هناك أنواع مختلفة من اللوكيميا , و تتضمن هذه ا...   \n",
       "3  بعض أنواع اللوكيميا قابلة ل الشفاء غالبا , أما...   \n",
       "4  قد تتضمن العلاجات العلاج ب الجرعات الكيميائية ...   \n",
       "\n",
       "                                              Tokens  \\\n",
       "0  [إن, اللوكيميا, أو, (, ابيضاض, الدم, ), هو, سر...   \n",
       "1  [تتشكل, خلايا, الدم, في, نقي, العظام, ,, أما, ...   \n",
       "2  [هناك, أنواع, مختلفة, من, اللوكيميا, ,, و, تتض...   \n",
       "3  [ب, عض, أنواع, اللوكيميا, قابلة, ل, الشفاء, غا...   \n",
       "4  [قد, تتضمن, العلاجات, العلاج, ب, الجرعات, الكي...   \n",
       "\n",
       "                                         tuples_list  \\\n",
       "0  [(إن, O), (اللوكيميا, B), (أو, O), ((, O), (اب...   \n",
       "1  [(تتشكل, O), (خلايا, O), (الدم, O), (في, O), (...   \n",
       "2  [(هناك, O), (أنواع, O), (مختلفة, O), (من, O), ...   \n",
       "3  [(بعض, O), (أنواع, O), (اللوكيميا, B), (قابلة,...   \n",
       "4  [(قد, O), (تتضمن, O), (العلاجات, O), (العلاج, ...   \n",
       "\n",
       "                                 classification_list  \n",
       "0  [O, B, O, O, B, I, O, O, B, I, I, I, O, O, O, ...  \n",
       "1  [O, O, O, O, O, O, O, O, O, B, O, O, O, O, O, ...  \n",
       "2  [O, O, O, O, B, O, O, O, O, O, O, B, I, I, B, ...  \n",
       "3  [O, O, B, O, O, O, O, O, O, O, O, O, O, O, O, ...  \n",
       "4  [O, O, O, O, O, O, O, O, O, O, O, O, O, O, O, ...  "
      ]
     },
     "execution_count": 15,
     "metadata": {},
     "output_type": "execute_result"
    }
   ],
   "source": [
    "def generate_vocab_and_classification_lists(tuples_lists):\n",
    "    classification_lists = []\n",
    "\n",
    "    for tuples_list in tuples_lists:\n",
    "        current_classification_list = []\n",
    "        for word, entity_tag in tuples_list:\n",
    "            current_classification_list.append(entity_tag)\n",
    "        classification_lists.append(current_classification_list)\n",
    "\n",
    "    return classification_lists\n",
    "\n",
    "classification_lists = generate_vocab_and_classification_lists(sentences_df['tuples_list'].values)\n",
    "\n",
    "sentences_df['classification_list'] = classification_lists\n",
    "\n",
    "sentences_df.head()"
   ]
  },
  {
   "cell_type": "markdown",
   "id": "4QOdfsKFyzKt",
   "metadata": {
    "id": "4QOdfsKFyzKt"
   },
   "source": [
    "## [1.5]"
   ]
  },
  {
   "cell_type": "code",
   "execution_count": 16,
   "id": "7zcgCepryzKu",
   "metadata": {
    "id": "7zcgCepryzKu"
   },
   "outputs": [],
   "source": [
    "train_data, test_data = train_test_split(iob_df, test_size=0.25, shuffle=False)"
   ]
  },
  {
   "cell_type": "markdown",
   "id": "C7lgaCiYyzQw",
   "metadata": {
    "id": "C7lgaCiYyzQw"
   },
   "source": [
    "## [1.6]"
   ]
  },
  {
   "cell_type": "code",
   "execution_count": 25,
   "id": "51qC3SSgyzQx",
   "metadata": {
    "id": "51qC3SSgyzQx"
   },
   "outputs": [
    {
     "name": "stdout",
     "output_type": "stream",
     "text": [
      "\u001b[1mTraining set size\u001b[0m: 46879 words\n",
      "\u001b[1mTest set size\u001b[0m: 15627 words\n"
     ]
    }
   ],
   "source": [
    "print(\"\\033[1mTraining set size\\033[0m:\", train_data.shape[0], \"words\")\n",
    "print(\"\\033[1mTest set size\\033[0m:\", test_data.shape[0], \"words\")"
   ]
  },
  {
   "cell_type": "markdown",
   "id": "tNFingqGyzVo",
   "metadata": {
    "id": "tNFingqGyzVo"
   },
   "source": [
    "## [1.7]"
   ]
  },
  {
   "cell_type": "code",
   "execution_count": 18,
   "id": "XC1zM6uEyzVp",
   "metadata": {
    "id": "XC1zM6uEyzVp"
   },
   "outputs": [],
   "source": [
    "def calculate_nominal_entities_ratio(classification_lists):\n",
    "    total_words = 0\n",
    "    nominal_entities_count = 0\n",
    "\n",
    "    for classification_list in classification_lists:\n",
    "        for tag in classification_list:\n",
    "            total_words += 1\n",
    "            if tag == 'B' OR tag == 'I':\n",
    "                nominal_entities_count += 1\n",
    "\n",
    "    nominal_entities_ratio = nominal_entities_count / total_words if total_words > 0 else 0\n",
    "\n",
    "    return nominal_entities_count, total_words, nominal_entities_ratio"
   ]
  },
  {
   "cell_type": "code",
   "execution_count": 19,
   "id": "e603edd1",
   "metadata": {},
   "outputs": [
    {
     "name": "stdout",
     "output_type": "stream",
     "text": [
      "Nominal Entities Count: 1288\n",
      "Total Words: 62506\n",
      "Nominal Entities Ratio: 2.06%\n"
     ]
    }
   ],
   "source": [
    "nominal_entities_count, total_words, nominal_entities_ratio = calculate_nominal_entities_ratio(sentences_df['classification_list'])\n",
    "\n",
    "print(f\"Nominal Entities Count: {nominal_entities_count}\")\n",
    "print(f\"Total Words: {total_words}\")\n",
    "print(f\"Nominal Entities Ratio: {nominal_entities_ratio:.2%}\")"
   ]
  },
  {
   "cell_type": "markdown",
   "id": "SoAGtfcry9Ri",
   "metadata": {
    "id": "SoAGtfcry9Ri"
   },
   "source": [
    "## [1.8]"
   ]
  },
  {
   "cell_type": "code",
   "execution_count": 12,
   "id": "Ev5vvt1Fy9Rj",
   "metadata": {
    "id": "Ev5vvt1Fy9Rj"
   },
   "outputs": [],
   "source": [
    "def calculate_O_tag_ratio(classification_lists):\n",
    "    total_words = 0\n",
    "    O_tag_count = 0\n",
    "\n",
    "    for classification_list in classification_lists:\n",
    "        for tag in classification_list:\n",
    "            total_words += 1\n",
    "            if tag == 'O':\n",
    "                O_tag_count += 1\n",
    "\n",
    "    O_tag_ratio = O_tag_count / total_words if total_words > 0 else 0\n",
    "\n",
    "    return O_tag_count, total_words, O_tag_ratio"
   ]
  },
  {
   "cell_type": "code",
   "execution_count": 13,
   "id": "7c74f6cf",
   "metadata": {},
   "outputs": [
    {
     "name": "stdout",
     "output_type": "stream",
     "text": [
      "Number of 'O' Tags: 59674\n",
      "Total Words: 62506\n",
      "Ratio of 'O' Tags: 95.47%\n"
     ]
    }
   ],
   "source": [
    "O_tag_count, total_words, O_tag_ratio = calculate_O_tag_ratio(sentences_df['classification_list'])\n",
    "\n",
    "print(f\"Number of 'O' Tags: {O_tag_count}\")\n",
    "print(f\"Total Words: {total_words}\")\n",
    "print(f\"Ratio of 'O' Tags: {O_tag_ratio:.2%}\")"
   ]
  },
  {
   "cell_type": "markdown",
   "id": "dc04f95c",
   "metadata": {},
   "source": [
    "## [1.9]"
   ]
  },
  {
   "cell_type": "markdown",
   "id": "fee9d05a",
   "metadata": {},
   "source": [
    "<div dir=\"rtl\"><b>الصنف الأكثر تكرار كما ظهر سابقًا هو الصنف O</b></div>"
   ]
  },
  {
   "cell_type": "code",
   "execution_count": 14,
   "id": "5efc837b",
   "metadata": {},
   "outputs": [
    {
     "name": "stdout",
     "output_type": "stream",
     "text": [
      "['التصلب', 'المتعدد', 'مرض', 'يحتمل', 'أن', 'يسبب', 'أعاقه', 'الدماغ', 'والحبل', 'النخاعي', '(', 'الجهاز', 'العصبي', 'المركزي', ')', '.', 'عند', 'الإصابة', 'ب', 'مرض', 'التصلب', 'المتعدد', '،', 'يهاجم', 'الجهاز', 'المناعي', 'غمد', 'الحماية', '(', 'المايلين', ')', 'الذي', 'يغطي', 'الألياف', 'العصبية', '،', 'ويسبب', 'مشكلات', 'في', 'الاتصال', 'بين', 'الدماغ', 'وبقية', 'الجسم', '.', 'في', 'النهاية', '،', 'يمكن', 'أن', 'يسبب', 'المرض', 'تلفا', 'أو', 'تدهورا', 'دائما', 'في', 'الألياف', 'العصبية', '.']\n"
     ]
    }
   ],
   "source": [
    "text_to_tokenize = '''التصلب المتعدد مرض يحتمل أن يسبب إعاقة الدماغ والحبل النخاعي (الجهاز العصبي المركزي). عند الإصابة بمرض التصلب المتعدد، يهاجم الجهاز المناعي غمد الحماية (المايلين) الذي يغطي الألياف العصبية، ويسبب مشكلات في الاتصال بين الدماغ وبقية الجسم. في النهاية، يمكن أن يسبب المرض تلفًا أو تدهورًا دائمًا في الألياف العصبية.'''\n",
    "tokens = tokenize(text_to_tokenize)\n",
    "print(tokens)"
   ]
  },
  {
   "cell_type": "code",
   "execution_count": 15,
   "id": "40b6f5cf",
   "metadata": {},
   "outputs": [],
   "source": [
    "comparison_table = {}\n",
    "comparison_table['question_step_number'] = []\n",
    "comparison_table['model_name'] = []\n",
    "comparison_table['features'] = []\n",
    "comparison_table['accuracy'] = []"
   ]
  },
  {
   "cell_type": "markdown",
   "id": "2f22713d",
   "metadata": {
    "id": "2f22713d"
   },
   "source": [
    "# Statistics"
   ]
  },
  {
   "cell_type": "markdown",
   "id": "03ef90d1",
   "metadata": {
    "id": "03ef90d1"
   },
   "source": [
    "## [2.1]\n"
   ]
  },
  {
   "cell_type": "markdown",
   "id": "828c20d2",
   "metadata": {},
   "source": [
    "<div dir=\"rtl\"><b>بما ان الصنف الاكثر تكرار هو الصنف O سنقوم ببناء baseline يقوم بفرض ان كل الكلمات هي من الصنف O</b></div>"
   ]
  },
  {
   "cell_type": "code",
   "execution_count": 31,
   "id": "c1b8c64b",
   "metadata": {
    "id": "c1b8c64b"
   },
   "outputs": [
    {
     "data": {
      "text/plain": [
       "[('إن', 'O'),\n",
       " ('اللوكيميا', 'O'),\n",
       " ('أو', 'O'),\n",
       " ('(', 'O'),\n",
       " ('ابيضاض', 'O'),\n",
       " ('الدم', 'O'),\n",
       " (')', 'O'),\n",
       " ('هو', 'O'),\n",
       " ('سرطان', 'O'),\n",
       " ('خلايا', 'O'),\n",
       " ('الدم', 'O'),\n",
       " ('البيضاء', 'O'),\n",
       " (',', 'O'),\n",
       " ('و', 'O'),\n",
       " ('خلايا', 'O'),\n",
       " ('الدم', 'O'),\n",
       " ('البيضاء', 'O'),\n",
       " ('تساعد', 'O'),\n",
       " ('الجسم', 'O'),\n",
       " ('على', 'O'),\n",
       " ('محاربة', 'O'),\n",
       " ('العدوى', 'O'),\n",
       " ('.', 'O'),\n",
       " ('تتشكل', 'O'),\n",
       " ('خلايا', 'O'),\n",
       " ('الدم', 'O'),\n",
       " ('في', 'O'),\n",
       " ('نقي', 'O'),\n",
       " ('العظام', 'O'),\n",
       " (',', 'O'),\n",
       " ('أما', 'O'),\n",
       " ('في', 'O'),\n",
       " ('اللوكيميا', 'O'),\n",
       " ('ف', 'O'),\n",
       " ('يقوم', 'O'),\n",
       " ('نقي', 'O'),\n",
       " ('العظام', 'O'),\n",
       " ('على', 'O'),\n",
       " ('كل', 'O'),\n",
       " ('حال', 'O'),\n",
       " ('ب', 'O'),\n",
       " ('إنتاج', 'O'),\n",
       " ('خلايا', 'O'),\n",
       " ('دم', 'O'),\n",
       " ('بيضاء', 'O'),\n",
       " ('غير', 'O'),\n",
       " ('طبيعية', 'O'),\n",
       " (',', 'O'),\n",
       " ('ب', 'O'),\n",
       " ('حيث', 'O'),\n",
       " ('تتجمع', 'O'),\n",
       " ('تلك', 'O'),\n",
       " ('الخلايا', 'O'),\n",
       " ('حول', 'O'),\n",
       " ('خلايا', 'O'),\n",
       " ('الدم', 'O'),\n",
       " ('الصحيحة', 'O'),\n",
       " ('مما', 'O'),\n",
       " ('يجعل', 'O'),\n",
       " ('من', 'O'),\n",
       " ('الصعب', 'O'),\n",
       " ('أن', 'O'),\n",
       " ('تقوم', 'O'),\n",
       " ('هذه', 'O'),\n",
       " ('الخلايا', 'O'),\n",
       " ('ب', 'O'),\n",
       " ('عملها', 'O'),\n",
       " ('ب', 'O'),\n",
       " ('شكل', 'O'),\n",
       " ('عادي', 'O'),\n",
       " ('.', 'O'),\n",
       " ('هناك', 'O'),\n",
       " ('أنواع', 'O'),\n",
       " ('مختلفة', 'O'),\n",
       " ('من', 'O'),\n",
       " ('اللوكيميا', 'O'),\n",
       " (',', 'O'),\n",
       " ('و', 'O'),\n",
       " ('تتضمن', 'O'),\n",
       " ('هذه', 'O'),\n",
       " ('الأنواع', 'O'),\n",
       " (':', 'O'),\n",
       " ('ابيضاض', 'O'),\n",
       " ('اللمفاويات', 'O'),\n",
       " ('الحاد', 'O'),\n",
       " ('الابيضاض', 'O'),\n",
       " ('النخاعي', 'O'),\n",
       " ('الحاد', 'O'),\n",
       " ('ابيضاض', 'O'),\n",
       " ('اللمفاويات', 'O'),\n",
       " ('المزمن', 'O'),\n",
       " ('الابيضاض', 'O'),\n",
       " ('النخاعي', 'O'),\n",
       " ('المزمن', 'O'),\n",
       " ('يمكن', 'O'),\n",
       " ('ل', 'O'),\n",
       " ('اللوكيميا', 'O'),\n",
       " ('أن', 'O'),\n",
       " ('تتطور', 'O'),\n",
       " ('ب', 'O'),\n",
       " ('سرعة', 'O'),\n",
       " ('أو', 'O'),\n",
       " ('ب', 'O'),\n",
       " ('بطء', 'O'),\n",
       " (',', 'O'),\n",
       " ('ف', 'O'),\n",
       " ('اللوكيميا', 'O'),\n",
       " ('المزمنة', 'O'),\n",
       " ('تتطور', 'O'),\n",
       " ('ب', 'O'),\n",
       " ('بطء', 'O'),\n",
       " (',', 'O'),\n",
       " ('أما', 'O'),\n",
       " ('في', 'O'),\n",
       " ('اللوكيميا', 'O'),\n",
       " ('الحادة', 'O'),\n",
       " ('فتكون', 'O'),\n",
       " ('الخلايا', 'O'),\n",
       " ('شاذة', 'O'),\n",
       " ('جدا', 'O'),\n",
       " ('عن', 'O'),\n",
       " ('الوضع', 'O'),\n",
       " ('الطبيعي', 'O'),\n",
       " ('و', 'O'),\n",
       " ('تتزايد', 'O'),\n",
       " ('أعدادها', 'O'),\n",
       " ('ب', 'O'),\n",
       " ('سرعة', 'O'),\n",
       " ('كبيرة', 'O'),\n",
       " (',', 'O'),\n",
       " ('و', 'O'),\n",
       " ('قد', 'O'),\n",
       " ('يصاب', 'O'),\n",
       " ('البالغون', 'O'),\n",
       " ('ب', 'O'),\n",
       " ('أي', 'O'),\n",
       " ('من', 'O'),\n",
       " ('النوعين', 'O'),\n",
       " (',', 'O'),\n",
       " ('أما', 'O'),\n",
       " ('الأطفال', 'O'),\n",
       " ('المصابون', 'O'),\n",
       " ('ب', 'O'),\n",
       " ('اللوكيميا', 'O'),\n",
       " ('ف', 'O'),\n",
       " ('غالبا', 'O'),\n",
       " ('ما', 'O'),\n",
       " ('تكون', 'O'),\n",
       " ('إصابتهم', 'O'),\n",
       " ('ب', 'O'),\n",
       " ('اللوكيميا', 'O'),\n",
       " ('الحادة', 'O'),\n",
       " ('.', 'O'),\n",
       " ('بعض', 'O'),\n",
       " ('أنواع', 'O'),\n",
       " ('اللوكيميا', 'O'),\n",
       " ('قابلة', 'O'),\n",
       " ('ل', 'O'),\n",
       " ('الشفاء', 'O'),\n",
       " ('غالبا', 'O'),\n",
       " (',', 'O'),\n",
       " ('أما', 'O'),\n",
       " ('الأنواع', 'O'),\n",
       " ('الأخرى', 'O'),\n",
       " ('ف', 'O'),\n",
       " ('من', 'O'),\n",
       " ('الصعب', 'O'),\n",
       " ('أن', 'O'),\n",
       " ('تشفى', 'O'),\n",
       " (',', 'O'),\n",
       " ('لكن', 'O'),\n",
       " ('يمكن', 'O'),\n",
       " ('السيطرة', 'O'),\n",
       " ('عليها', 'O'),\n",
       " ('.', 'O'),\n",
       " ('قد', 'O'),\n",
       " ('تتضمن', 'O'),\n",
       " ('العلاجات', 'O'),\n",
       " ('العلاج', 'O'),\n",
       " ('ب', 'O'),\n",
       " ('الجرعات', 'O'),\n",
       " ('الكيميائية', 'O'),\n",
       " ('و', 'O'),\n",
       " ('العلاج', 'O'),\n",
       " ('ب', 'O'),\n",
       " ('الأشعة', 'O'),\n",
       " ('و', 'O'),\n",
       " ('ب', 'O'),\n",
       " ('زرع', 'O'),\n",
       " ('الخلايا', 'O'),\n",
       " ('الجذعية', 'O'),\n",
       " (',', 'O'),\n",
       " ('و', 'O'),\n",
       " ('حتى', 'O'),\n",
       " ('لو', 'O'),\n",
       " ('اختفت', 'O'),\n",
       " ('الأعراض', 'O'),\n",
       " ('ف', 'O'),\n",
       " ('قد', 'O'),\n",
       " ('يحتاج', 'O'),\n",
       " ('المريض', 'O'),\n",
       " ('إلى', 'O'),\n",
       " ('استمرار', 'O'),\n",
       " ('العلاج', 'O'),\n",
       " ('ل', 'O'),\n",
       " ('منع', 'O'),\n",
       " ('الانتكاس', 'O'),\n",
       " ('.', 'O'),\n",
       " ('مقدمة', 'O'),\n",
       " ('ابيضاض', 'O'),\n",
       " ('الدم', 'O'),\n",
       " ('(', 'O'),\n",
       " ('أو', 'O'),\n",
       " ('اللوكيميا', 'O'),\n",
       " (')', 'O'),\n",
       " ('هو', 'O'),\n",
       " ('اسم', 'O'),\n",
       " ('يطلق', 'O'),\n",
       " ('على', 'O'),\n",
       " ('مجموعة', 'O'),\n",
       " ('من', 'O'),\n",
       " ('سرطانات', 'O'),\n",
       " ('خلايا', 'O'),\n",
       " ('الدم', 'O'),\n",
       " ('.', 'O'),\n",
       " ('و', 'O'),\n",
       " ('في', 'O'),\n",
       " ('كل', 'O'),\n",
       " ('سنة', 'O'),\n",
       " (',', 'O'),\n",
       " ('يكتشف', 'O'),\n",
       " ('الأطباء', 'O'),\n",
       " ('ابيضاض', 'O'),\n",
       " ('الدم', 'O'),\n",
       " ('عند', 'O'),\n",
       " ('الآلاف', 'O'),\n",
       " ('من', 'O'),\n",
       " ('البالغين', 'O'),\n",
       " ('و', 'O'),\n",
       " ('الأطفال', 'O'),\n",
       " ('.', 'O'),\n",
       " ('توجد', 'O'),\n",
       " ('أنواع', 'O'),\n",
       " ('مختلفة', 'O'),\n",
       " ('من', 'O'),\n",
       " ('ابيضاض', 'O'),\n",
       " ('الدم', 'O'),\n",
       " (',', 'O'),\n",
       " ('و', 'O'),\n",
       " ('ل', 'O'),\n",
       " ('كل', 'O'),\n",
       " ('نوع', 'O'),\n",
       " ('عدة', 'O'),\n",
       " ('طرق', 'O'),\n",
       " ('ل', 'O'),\n",
       " ('المعالجة', 'O'),\n",
       " ('.', 'O'),\n",
       " ('يشرح', 'O'),\n",
       " ('هذا', 'O'),\n",
       " ('البرنامج', 'O'),\n",
       " ('التثقيفي', 'O'),\n",
       " ('ما', 'O'),\n",
       " ('هو', 'O'),\n",
       " ('ابيضاض', 'O'),\n",
       " ('الدم', 'O'),\n",
       " (',', 'O'),\n",
       " ('و', 'O'),\n",
       " ('يستعرض', 'O'),\n",
       " ('أسبابه', 'O'),\n",
       " ('و', 'O'),\n",
       " ('أعراضه', 'O'),\n",
       " ('و', 'O'),\n",
       " ('تشخيصه', 'O'),\n",
       " ('و', 'O'),\n",
       " ('سبل', 'O'),\n",
       " ('معالجته', 'O'),\n",
       " ('.', 'O'),\n",
       " ('السرطان', 'O'),\n",
       " ('يتألف', 'O'),\n",
       " ('الجسم', 'O'),\n",
       " ('من', 'O'),\n",
       " ('خلايا', 'O'),\n",
       " ('بالغة', 'O'),\n",
       " ('الصغر', 'O'),\n",
       " ('.', 'O'),\n",
       " ('تنمو', 'O'),\n",
       " ('الخلايا', 'O'),\n",
       " ('الطبيعية', 'O'),\n",
       " ('في', 'O'),\n",
       " ('الجسم', 'O'),\n",
       " (',', 'O'),\n",
       " ('و', 'O'),\n",
       " ('تموت', 'O'),\n",
       " ('وفق', 'O'),\n",
       " ('آلية', 'O'),\n",
       " ('مضبوطة', 'O'),\n",
       " ('.', 'O'),\n",
       " ('لكن', 'O'),\n",
       " ('تستمر', 'O'),\n",
       " ('الخلايا', 'O'),\n",
       " ('أحيانا', 'O'),\n",
       " ('في', 'O'),\n",
       " ('انقسامها', 'O'),\n",
       " ('و', 'O'),\n",
       " ('نموها', 'O'),\n",
       " (',', 'O'),\n",
       " ('و', 'O'),\n",
       " ('تخرج', 'O'),\n",
       " ('عن', 'O'),\n",
       " ('السيطرة', 'O'),\n",
       " ('الطبيعية', 'O'),\n",
       " (',', 'O'),\n",
       " ('مما', 'O'),\n",
       " ('يسبب', 'O'),\n",
       " ('نموا', 'O'),\n",
       " ('شاذا', 'O'),\n",
       " ('يدعى', 'O'),\n",
       " ('الورم', 'O'),\n",
       " ('.', 'O'),\n",
       " ('إذا', 'O'),\n",
       " ('كان', 'O'),\n",
       " ('الورم', 'O'),\n",
       " ('لا', 'O'),\n",
       " ('يهاجم', 'O'),\n",
       " ('الأنسجة', 'O'),\n",
       " ('المجاورة', 'O'),\n",
       " ('و', 'O'),\n",
       " ('أجزاء', 'O'),\n",
       " ('الجسم', 'O'),\n",
       " ('الأخرى', 'O'),\n",
       " (',', 'O'),\n",
       " ('ف', 'O'),\n",
       " ('إنه', 'O'),\n",
       " ('يدعى', 'O'),\n",
       " ('ورما', 'O'),\n",
       " ('حميدا', 'O'),\n",
       " (',', 'O'),\n",
       " ('أو', 'O'),\n",
       " ('غير', 'O'),\n",
       " ('سرطاني', 'O'),\n",
       " ('.', 'O'),\n",
       " ('و', 'O'),\n",
       " ('لا', 'O'),\n",
       " ('تشكل', 'O'),\n",
       " ('الأورام', 'O'),\n",
       " ('الحميدة', 'O'),\n",
       " ('خطرا', 'O'),\n",
       " ('على', 'O'),\n",
       " ('حياة', 'O'),\n",
       " ('المريض', 'O'),\n",
       " ('عادة', 'O'),\n",
       " ('.', 'O'),\n",
       " ('أما', 'O'),\n",
       " ('إذا', 'O'),\n",
       " ('كان', 'O'),\n",
       " ('الورم', 'O'),\n",
       " ('يهاجم', 'O'),\n",
       " ('الخلايا', 'O'),\n",
       " ('المجاورة', 'O'),\n",
       " (',', 'O'),\n",
       " ('و', 'O'),\n",
       " ('يدمرها', 'O'),\n",
       " (',', 'O'),\n",
       " ('ف', 'O'),\n",
       " ('إنه', 'O'),\n",
       " ('يدعى', 'O'),\n",
       " ('ورما', 'O'),\n",
       " ('خبيثا', 'O'),\n",
       " ('أو', 'O'),\n",
       " ('سرطانا', 'O'),\n",
       " ('.', 'O'),\n",
       " ('و', 'O'),\n",
       " ('يمكن', 'O'),\n",
       " ('أن', 'O'),\n",
       " ('يكون', 'O'),\n",
       " ('السرطان', 'O'),\n",
       " ('قاتلا', 'O'),\n",
       " ('أو', 'O'),\n",
       " ('مهددا', 'O'),\n",
       " ('ل', 'O'),\n",
       " ('الحياة', 'O'),\n",
       " ('في', 'O'),\n",
       " ('بعض', 'O'),\n",
       " ('الأحيان', 'O'),\n",
       " ('.', 'O'),\n",
       " ('تنتشر', 'O'),\n",
       " ('الخلايا', 'O'),\n",
       " ('السرطانية', 'O'),\n",
       " ('أحيانا', 'O'),\n",
       " ('إلى', 'O'),\n",
       " ('مختلف', 'O'),\n",
       " ('أنحاء', 'O'),\n",
       " ('الجسم', 'O'),\n",
       " (',', 'O'),\n",
       " ('عبر', 'O'),\n",
       " ('الأوعية', 'O'),\n",
       " ('الدموية', 'O'),\n",
       " ('و', 'O'),\n",
       " ('القنوات', 'O'),\n",
       " ('اللمفية', 'O'),\n",
       " ('.', 'O'),\n",
       " ('اللمف', 'O'),\n",
       " ('هو', 'O'),\n",
       " ('سائل', 'O'),\n",
       " ('شفاف', 'O'),\n",
       " (',', 'O'),\n",
       " ('ينتجه', 'O'),\n",
       " ('الجسم', 'O'),\n",
       " (',', 'O'),\n",
       " ('و', 'O'),\n",
       " ('يقوم', 'O'),\n",
       " ('ب', 'O'),\n",
       " ('تخليص', 'O'),\n",
       " ('الخلايا', 'O'),\n",
       " ('من', 'O'),\n",
       " ('الفضلات', 'O'),\n",
       " ('.', 'O'),\n",
       " ('يسير', 'O'),\n",
       " ('اللمف', 'O'),\n",
       " ('عبر', 'O'),\n",
       " ('أوعية', 'O'),\n",
       " ('خاصة', 'O'),\n",
       " ('و', 'O'),\n",
       " ('أجسام', 'O'),\n",
       " ('تشبه', 'O'),\n",
       " ('حبات', 'O'),\n",
       " ('الفاصوليا', 'O'),\n",
       " (',', 'O'),\n",
       " ('تدعى', 'O'),\n",
       " ('العقد', 'O'),\n",
       " ('اللمفية', 'O'),\n",
       " ('.', 'O'),\n",
       " ('الهدف', 'O'),\n",
       " ('من', 'O'),\n",
       " ('علاج', 'O'),\n",
       " ('السرطان', 'O'),\n",
       " ('هو', 'O'),\n",
       " ('قتل', 'O'),\n",
       " ('الخلايا', 'O'),\n",
       " ('السرطانية', 'O'),\n",
       " (',', 'O'),\n",
       " ('أو', 'O'),\n",
       " ('السيطرة', 'O'),\n",
       " ('على', 'O'),\n",
       " ('تكاثرها', 'O'),\n",
       " ('الشاذ', 'O'),\n",
       " ('.', 'O'),\n",
       " ('يسمى', 'O'),\n",
       " ('السرطان', 'O'),\n",
       " ('اعتمادا', 'O'),\n",
       " ('على', 'O'),\n",
       " ('المكان', 'O'),\n",
       " ('الذي', 'O'),\n",
       " ('بدأ', 'O'),\n",
       " ('ظهوره', 'O'),\n",
       " ('فيه', 'O'),\n",
       " (',', 'O'),\n",
       " ('فالسرطان', 'O'),\n",
       " ('الذي', 'O'),\n",
       " ('يبدأ', 'O'),\n",
       " ('في', 'O'),\n",
       " ('خلايا', 'O'),\n",
       " ('الدم', 'O'),\n",
       " ('البيضاء', 'O'),\n",
       " ('يسمى', 'O'),\n",
       " ('سرطان', 'O'),\n",
       " ('خلايا', 'O'),\n",
       " ('الدم', 'O'),\n",
       " ('البيضاء', 'O'),\n",
       " (',', 'O'),\n",
       " ('حتى', 'O'),\n",
       " ('إذا', 'O'),\n",
       " ('انتشر', 'O'),\n",
       " ('إلى', 'O'),\n",
       " ('أماكن', 'O'),\n",
       " ('أخرى', 'O'),\n",
       " ('من', 'O'),\n",
       " ('الجسم', 'O'),\n",
       " ('.', 'O'),\n",
       " ('يستطيع', 'O'),\n",
       " ('الأطباء', 'O'),\n",
       " ('تحديد', 'O'),\n",
       " ('المكان', 'O'),\n",
       " ('الذي', 'O'),\n",
       " ('بدأ', 'O'),\n",
       " ('فيه', 'O'),\n",
       " ('السرطان', 'O'),\n",
       " (',', 'O'),\n",
       " ('إلا', 'O'),\n",
       " ('أنهم', 'O'),\n",
       " ('لا', 'O'),\n",
       " ('يستطيعون', 'O'),\n",
       " ('معرفة', 'O'),\n",
       " ('سبب', 'O'),\n",
       " ('السرطان', 'O'),\n",
       " ('في', 'O'),\n",
       " ('جميع', 'O'),\n",
       " ('الحالات', 'O'),\n",
       " ('.', 'O'),\n",
       " ('تحتوي', 'O'),\n",
       " ('الخلايا', 'O'),\n",
       " ('على', 'O'),\n",
       " ('مواد', 'O'),\n",
       " ('وراثية', 'O'),\n",
       " ('أو', 'O'),\n",
       " ('جينية', 'O'),\n",
       " ('تدعى', 'O'),\n",
       " ('الكروموسومات', 'O'),\n",
       " ('أو', 'O'),\n",
       " ('الصبغيات', 'O'),\n",
       " (',', 'O'),\n",
       " ('و', 'O'),\n",
       " ('هي', 'O'),\n",
       " ('تسيطر', 'O'),\n",
       " ('على', 'O'),\n",
       " ('تكاثر', 'O'),\n",
       " ('الخلايا', 'O'),\n",
       " ('.', 'O'),\n",
       " ('يبدأ', 'O'),\n",
       " ('السرطان', 'O'),\n",
       " ('دائما', 'O'),\n",
       " ('من', 'O'),\n",
       " ('تغيرات', 'O'),\n",
       " ('تطرأ', 'O'),\n",
       " ('على', 'O'),\n",
       " ('الكروموسومات', 'O'),\n",
       " ('.', 'O'),\n",
       " ('و', 'O'),\n",
       " ('عندما', 'O'),\n",
       " ('تصاب', 'O'),\n",
       " ('كروموسومات', 'O'),\n",
       " ('الخلية', 'O'),\n",
       " ('ب', 'O'),\n",
       " ('حالة', 'O'),\n",
       " ('شذوذ', 'O'),\n",
       " (',', 'O'),\n",
       " ('يمكن', 'O'),\n",
       " ('أن', 'O'),\n",
       " ('تفقد', 'O'),\n",
       " ('الخلية', 'O'),\n",
       " ('قدرتها', 'O'),\n",
       " ('على', 'O'),\n",
       " ('ضبط', 'O'),\n",
       " ('تكاثرها', 'O'),\n",
       " ('.', 'O'),\n",
       " ('يمكن', 'O'),\n",
       " ('أن', 'O'),\n",
       " ('تحدث', 'O'),\n",
       " ('تغيرات', 'O'),\n",
       " ('مفاجئة', 'O'),\n",
       " ('في', 'O'),\n",
       " ('المادة', 'O'),\n",
       " ('الوراثية', 'O'),\n",
       " (',', 'O'),\n",
       " ('و', 'O'),\n",
       " ('ذلك', 'O'),\n",
       " ('ل', 'O'),\n",
       " ('أسباب', 'O'),\n",
       " ('عديدة', 'O'),\n",
       " ('.', 'O'),\n",
       " ('و', 'O'),\n",
       " ('تكون', 'O'),\n",
       " ('أسباب', 'O'),\n",
       " ('بعض', 'O'),\n",
       " ('هذه', 'O'),\n",
       " ('التغيرات', 'O'),\n",
       " ('وراثية', 'O'),\n",
       " ('أحيانا', 'O'),\n",
       " ('.', 'O'),\n",
       " ('يمكن', 'O'),\n",
       " ('أن', 'O'),\n",
       " ('تحدث', 'O'),\n",
       " ('التغيرات', 'O'),\n",
       " ('في', 'O'),\n",
       " ('الكروموسومات', 'O'),\n",
       " ('ب', 'O'),\n",
       " ('سبب', 'O'),\n",
       " ('التعرض', 'O'),\n",
       " ('ل', 'O'),\n",
       " ('العدوى', 'O'),\n",
       " ('أو', 'O'),\n",
       " ('الأدوية', 'O'),\n",
       " ('أو', 'O'),\n",
       " ('التبغ', 'O'),\n",
       " ('أو', 'O'),\n",
       " ('العناصر', 'O'),\n",
       " ('الكيميائية', 'O'),\n",
       " ('أو', 'O'),\n",
       " ('غيرها', 'O'),\n",
       " ('من', 'O'),\n",
       " ('العوامل', 'O'),\n",
       " ('.', 'O'),\n",
       " ('و', 'O'),\n",
       " ('في', 'O'),\n",
       " ('حالة', 'O'),\n",
       " ('سرطان', 'O'),\n",
       " ('الجلد', 'O'),\n",
       " (',', 'O'),\n",
       " ('تكون', 'O'),\n",
       " ('أشعة', 'O'),\n",
       " ('الشمس', 'O'),\n",
       " ('هي', 'O'),\n",
       " ('المسؤولة', 'O'),\n",
       " ('عن', 'O'),\n",
       " ('تغير', 'O'),\n",
       " ('الكروموسومات', 'O'),\n",
       " ('الذي', 'O'),\n",
       " ('يؤدي', 'O'),\n",
       " ('إلى', 'O'),\n",
       " ('السرطان', 'O'),\n",
       " ('.', 'O'),\n",
       " ('ابيضاض', 'O'),\n",
       " ('الدم', 'O'),\n",
       " ('(', 'O'),\n",
       " ('اللوكيميا', 'O'),\n",
       " (')', 'O'),\n",
       " ('ابيضاض', 'O'),\n",
       " ('الدم', 'O'),\n",
       " ('هو', 'O'),\n",
       " ('سرطان', 'O'),\n",
       " ('على', 'O'),\n",
       " ('حساب', 'O'),\n",
       " ('خلايا', 'O'),\n",
       " ('الدم', 'O'),\n",
       " (',', 'O'),\n",
       " ('حيث', 'O'),\n",
       " ('يتألف', 'O'),\n",
       " ('الدم', 'O'),\n",
       " ('الطبيعي', 'O'),\n",
       " ('من', 'O'),\n",
       " ('سائل', 'O'),\n",
       " (',', 'O'),\n",
       " ('يدعى', 'O'),\n",
       " ('المصل', 'O'),\n",
       " (',', 'O'),\n",
       " ('و', 'O'),\n",
       " ('من', 'O'),\n",
       " ('ثلاثة', 'O'),\n",
       " ('أنواع', 'O'),\n",
       " ('من', 'O'),\n",
       " ('الخلايا', 'O'),\n",
       " (':', 'O'),\n",
       " ('خلايا', 'O'),\n",
       " ('الدم', 'O'),\n",
       " ('البيضاء', 'O'),\n",
       " ('(', 'O'),\n",
       " ('الكريات', 'O'),\n",
       " ('البيض', 'O'),\n",
       " (')', 'O'),\n",
       " ('.', 'O'),\n",
       " ('خلايا', 'O'),\n",
       " ('الدم', 'O'),\n",
       " ('الحمراء', 'O'),\n",
       " ('(', 'O'),\n",
       " ('الكريات', 'O'),\n",
       " ('الحمر', 'O'),\n",
       " (')', 'O'),\n",
       " ('.', 'O'),\n",
       " ('الصفيحات', 'O'),\n",
       " ('.', 'O'),\n",
       " ('تساعد', 'O'),\n",
       " ('خلايا', 'O'),\n",
       " ('الدم', 'O'),\n",
       " ('البيضاء', 'O'),\n",
       " (',', 'O'),\n",
       " ('و', 'O'),\n",
       " ('تدعى', 'O'),\n",
       " ('الكريات', 'O'),\n",
       " ('البيض', 'O'),\n",
       " ('أيضا', 'O'),\n",
       " (',', 'O'),\n",
       " ('الجسم', 'O'),\n",
       " ('على', 'O'),\n",
       " ('مكافحة', 'O'),\n",
       " ('العدوى', 'O'),\n",
       " ('و', 'O'),\n",
       " ('الأمراض', 'O'),\n",
       " ('.', 'O'),\n",
       " ('تحمل', 'O'),\n",
       " ('خلايا', 'O'),\n",
       " ('الدم', 'O'),\n",
       " ('الحمراء', 'O'),\n",
       " (',', 'O'),\n",
       " ('و', 'O'),\n",
       " ('تدعى', 'O'),\n",
       " ('الكريات', 'O'),\n",
       " ('الحمر', 'O'),\n",
       " ('أيضا', 'O'),\n",
       " (',', 'O'),\n",
       " ('الأكسجين', 'O'),\n",
       " ('من', 'O'),\n",
       " ('الرئتين', 'O'),\n",
       " ('إلى', 'O'),\n",
       " ('أنسجة', 'O'),\n",
       " ('الجسم', 'O'),\n",
       " (',', 'O'),\n",
       " ('و', 'O'),\n",
       " ('هي', 'O'),\n",
       " ('تنقل', 'O'),\n",
       " ('ثاني', 'O'),\n",
       " ('أكسيد', 'O'),\n",
       " ('الكربون', 'O'),\n",
       " ('من', 'O'),\n",
       " ('الأنسجة', 'O'),\n",
       " ('إلى', 'O'),\n",
       " ('الرئتين', 'O'),\n",
       " ('.', 'O'),\n",
       " ('و', 'O'),\n",
       " ('تعطي', 'O'),\n",
       " ('خلايا', 'O'),\n",
       " ('الدم', 'O'),\n",
       " ('الحمراء', 'O'),\n",
       " ('الدم', 'O'),\n",
       " ('لونه', 'O'),\n",
       " ('الأحمر', 'O'),\n",
       " ('.', 'O'),\n",
       " ('تساعد', 'O'),\n",
       " ('الصفيحات', 'O'),\n",
       " ('الدموية', 'O'),\n",
       " ('الدم', 'O'),\n",
       " ('على', 'O'),\n",
       " ('التخثر', 'O'),\n",
       " ('حين', 'O'),\n",
       " ('يصاب', 'O'),\n",
       " ('المرء', 'O'),\n",
       " ('ب', 'O'),\n",
       " ('جرح', 'O'),\n",
       " (',', 'O'),\n",
       " ('حيث', 'O'),\n",
       " ('يسيطر', 'O'),\n",
       " ('الجسم', 'O'),\n",
       " ('على', 'O'),\n",
       " ('النزف', 'O'),\n",
       " ('عن', 'O'),\n",
       " ('طريق', 'O'),\n",
       " ('تخثر', 'O'),\n",
       " ('الدم', 'O'),\n",
       " ('الذي', 'O'),\n",
       " ('يوقفه', 'O'),\n",
       " (',', 'O'),\n",
       " ('و', 'O'),\n",
       " ('يمنع', 'O'),\n",
       " ('فقدان', 'O'),\n",
       " ('المصاب', 'O'),\n",
       " ('كمية', 'O'),\n",
       " ('كبيرة', 'O'),\n",
       " ('من', 'O'),\n",
       " ('الدم', 'O'),\n",
       " ('.', 'O'),\n",
       " ('تتشكل', 'O'),\n",
       " ('خلايا', 'O'),\n",
       " ('الدم', 'O'),\n",
       " ('في', 'O'),\n",
       " ('لب', 'O'),\n",
       " ('العظم', 'O'),\n",
       " ('الذي', 'O'),\n",
       " ('يتصف', 'O'),\n",
       " ('ب', 'O'),\n",
       " ('قوام', 'O'),\n",
       " ('إسفنجي', 'O'),\n",
       " ('طري', 'O'),\n",
       " (',', 'O'),\n",
       " ('و', 'O'),\n",
       " ('هو', 'O'),\n",
       " ('يدعى', 'O'),\n",
       " ('نقي', 'O'),\n",
       " ('العظام', 'O'),\n",
       " ('(', 'O'),\n",
       " ('أو', 'O'),\n",
       " ('نخاع', 'O'),\n",
       " ('العظم', 'O'),\n",
       " (')', 'O'),\n",
       " ('.', 'O'),\n",
       " ('و', 'O'),\n",
       " ('تدعى', 'O'),\n",
       " ('خلايا', 'O'),\n",
       " ('الدم', 'O'),\n",
       " ('الجديدة', 'O'),\n",
       " ('التي', 'O'),\n",
       " ('لم', 'O'),\n",
       " ('يكتمل', 'O'),\n",
       " ('تكونها', 'O'),\n",
       " ('الارومات', 'O'),\n",
       " ('.', 'O'),\n",
       " ('تبقى', 'O'),\n",
       " ('بعض', 'O'),\n",
       " ('الأرومات', 'O'),\n",
       " ('في', 'O'),\n",
       " ('نقي', 'O'),\n",
       " ('العظم', 'O'),\n",
       " ('حتى', 'O'),\n",
       " ('يكتمل', 'O'),\n",
       " ('نضجها', 'O'),\n",
       " (',', 'O'),\n",
       " ('في', 'O'),\n",
       " ('حين', 'O'),\n",
       " ('ينتقل', 'O'),\n",
       " ('البعض', 'O'),\n",
       " ('الآخر', 'O'),\n",
       " ('إلى', 'O'),\n",
       " ('أجزاء', 'O'),\n",
       " ('أخرى', 'O'),\n",
       " ('من', 'O'),\n",
       " ('الجسم', 'O'),\n",
       " ('كي', 'O'),\n",
       " ('تنضج', 'O'),\n",
       " ('فيها', 'O'),\n",
       " ('.', 'O'),\n",
       " ('في', 'O'),\n",
       " ('الحالة', 'O'),\n",
       " ('الطبيعية', 'O'),\n",
       " (',', 'O'),\n",
       " ('يتم', 'O'),\n",
       " ('إنتاج', 'O'),\n",
       " ('خلايا', 'O'),\n",
       " ('الدم', 'O'),\n",
       " ('ب', 'O'),\n",
       " ('طريقة', 'O'),\n",
       " ('مضبوطة', 'O'),\n",
       " ('و', 'O'),\n",
       " ('ب', 'O'),\n",
       " ('الكمية', 'O'),\n",
       " ('اللازمة', 'O'),\n",
       " ('ل', 'O'),\n",
       " ('الجسم', 'O'),\n",
       " (',', 'O'),\n",
       " ('و', 'O'),\n",
       " ('هذه', 'O'),\n",
       " ('العملية', 'O'),\n",
       " ('تساعدنا', 'O'),\n",
       " ('على', 'O'),\n",
       " ('البقاء', 'O'),\n",
       " ('ب', 'O'),\n",
       " ('صحة', 'O'),\n",
       " ('جيدة', 'O'),\n",
       " ('.', 'O'),\n",
       " ('حين', 'O'),\n",
       " ('يصاب', 'O'),\n",
       " ('المرء', 'O'),\n",
       " ('ب', 'O'),\n",
       " ('ابيضاض', 'O'),\n",
       " ('الدم', 'O'),\n",
       " (',', 'O'),\n",
       " ('ينتج', 'O'),\n",
       " ('الجسم', 'O'),\n",
       " ('أعدادا', 'O'),\n",
       " ('كبيرة', 'O'),\n",
       " ('من', 'O'),\n",
       " ('خلايا', 'O'),\n",
       " ('الدم', 'O'),\n",
       " ('البيضاء', 'O'),\n",
       " ('الشاذة', 'O'),\n",
       " ('.', 'O'),\n",
       " ('يكون', 'O'),\n",
       " ('شكل', 'O'),\n",
       " ('خلايا', 'O'),\n",
       " ('ابيضاض', 'O'),\n",
       " ('الدم', 'O'),\n",
       " ('مختلفا', 'O'),\n",
       " ('عن', 'O'),\n",
       " ('شكل', 'O'),\n",
       " ('خلايا', 'O'),\n",
       " ('الدم', 'O'),\n",
       " ('البيضاء', 'O'),\n",
       " ('الطبيعية', 'O'),\n",
       " ('عادة', 'O'),\n",
       " (',', 'O'),\n",
       " ('كما', 'O'),\n",
       " ('أنها', 'O'),\n",
       " ('لا', 'O'),\n",
       " ('تعمل', 'O'),\n",
       " ('على', 'O'),\n",
       " ('نحو', 'O'),\n",
       " ('صحيح', 'O'),\n",
       " ('.', 'O'),\n",
       " ('لا', 'O'),\n",
       " ('يزال', 'O'),\n",
       " ('سبب', 'O'),\n",
       " ('حدوث', 'O'),\n",
       " ('ابيضاض', 'O'),\n",
       " ('الدم', 'O'),\n",
       " ('غير', 'O'),\n",
       " ('معروف', 'O'),\n",
       " ('حتى', 'O'),\n",
       " ('الآن', 'O'),\n",
       " (',', 'O'),\n",
       " ('لكن', 'O'),\n",
       " ('الباحثين', 'O'),\n",
       " ('اكتشفوا', 'O'),\n",
       " ('أن', 'O'),\n",
       " ('هناك', 'O'),\n",
       " ('عوامل', 'O'),\n",
       " ('خطورة', 'O'),\n",
       " ('تزيد', 'O'),\n",
       " ('من', 'O'),\n",
       " ('خطر', 'O'),\n",
       " ('إصابة', 'O'),\n",
       " ('الشخص', 'O'),\n",
       " ('ب', 'O'),\n",
       " ('ابيضاض', 'O'),\n",
       " ('الدم', 'O'),\n",
       " ('.', 'O'),\n",
       " ('يتميز', 'O'),\n",
       " ('ابيضاض', 'O'),\n",
       " ('الدم', 'O'),\n",
       " ('عموما', 'O'),\n",
       " ('ب', 'O'),\n",
       " ('سرعة', 'O'),\n",
       " ('تطوره', 'O'),\n",
       " (',', 'O'),\n",
       " ('و', 'O'),\n",
       " ('بسرعة', 'O'),\n",
       " ('تدهور', 'O'),\n",
       " ('حالة', 'O'),\n",
       " ('المريض', 'O'),\n",
       " (',', 'O'),\n",
       " ('ف', 'O'),\n",
       " ('في', 'O'),\n",
       " ('ابيضاض', 'O'),\n",
       " ('الدم', 'O'),\n",
       " ('الحاد', 'O'),\n",
       " ('(', 'O'),\n",
       " ('1', 'O'),\n",
       " (')', 'O'),\n",
       " (',', 'O'),\n",
       " ('يتدهور', 'O'),\n",
       " ('وضع', 'O'),\n",
       " ('المريض', 'O'),\n",
       " ('ب', 'O'),\n",
       " ('سرعة', 'O'),\n",
       " ('.', 'O'),\n",
       " ('أما', 'O'),\n",
       " ('في', 'O'),\n",
       " ('ابيضاض', 'O'),\n",
       " ('الدم', 'O'),\n",
       " ('المزمن', 'O'),\n",
       " ('(', 'O'),\n",
       " ('2', 'O'),\n",
       " (')', 'O'),\n",
       " (',', 'O'),\n",
       " ('ف', 'O'),\n",
       " ('يتدهور', 'O'),\n",
       " ('وضع', 'O'),\n",
       " ('المريض', 'O'),\n",
       " ('على', 'O'),\n",
       " ('نحو', 'O'),\n",
       " ('تدريجي', 'O'),\n",
       " ('.', 'O'),\n",
       " ('كما', 'O'),\n",
       " ('يمكن', 'O'),\n",
       " ('تصنيف', 'O'),\n",
       " ('ابيضاض', 'O'),\n",
       " ('الدم', 'O'),\n",
       " ('أيضا', 'O'),\n",
       " ('حسب', 'O'),\n",
       " ('نوع', 'O'),\n",
       " ('الكريات', 'O'),\n",
       " ('البيض', 'O'),\n",
       " ('المصابة', 'O'),\n",
       " ('.', 'O'),\n",
       " ('و', 'O'),\n",
       " ('من', 'O'),\n",
       " ('الأمثلة', 'O'),\n",
       " ('على', 'O'),\n",
       " ('ذلك', 'O'),\n",
       " (':', 'O'),\n",
       " ('ابيضاض', 'O'),\n",
       " ('الدم', 'O'),\n",
       " ('اللمفاوي', 'O'),\n",
       " ('وابيضاض', 'O'),\n",
       " ('الدم', 'O'),\n",
       " ('النقوي', 'O'),\n",
       " ('.', 'O'),\n",
       " ('أعراض', 'O'),\n",
       " ('اللوكيميا', 'O'),\n",
       " ('تكون', 'O'),\n",
       " ('خلايا', 'O'),\n",
       " ('ابيضاض', 'O'),\n",
       " ('الدم', 'O'),\n",
       " ('شاذة', 'O'),\n",
       " ('أو', 'O'),\n",
       " ('غير', 'O'),\n",
       " ('طبيعية', 'O'),\n",
       " (',', 'O'),\n",
       " ('و', 'O'),\n",
       " ('لا', 'O'),\n",
       " ('تستطيع', 'O'),\n",
       " ('أن', 'O'),\n",
       " ('تقوم', 'O'),\n",
       " ('ب', 'O'),\n",
       " ('وظيفة', 'O'),\n",
       " ('خلايا', 'O'),\n",
       " ('الدم', 'O'),\n",
       " ('الطبيعية', 'O'),\n",
       " (',', 'O'),\n",
       " ('ف', 'O'),\n",
       " ('هي', 'O'),\n",
       " ('لا', 'O'),\n",
       " ('تستطيع', 'O'),\n",
       " ('أن', 'O'),\n",
       " ...]"
      ]
     },
     "execution_count": 31,
     "metadata": {},
     "output_type": "execute_result"
    }
   ],
   "source": [
    "default_tagger = nltk.DefaultTagger('O')\n",
    "default_tagger.tag(train_data['Word i'])"
   ]
  },
  {
   "cell_type": "code",
   "execution_count": 66,
   "id": "3f28255d",
   "metadata": {},
   "outputs": [
    {
     "name": "stdout",
     "output_type": "stream",
     "text": [
      "Accuracy: 0.957125487937544\n"
     ]
    },
    {
     "name": "stderr",
     "output_type": "stream",
     "text": [
      "C:\\Users\\USER\\AppData\\Local\\Temp\\ipykernel_9088\\3805607384.py:1: DeprecationWarning: \n",
      "  Function evaluate() has been deprecated.  Use accuracy(gold)\n",
      "  instead.\n",
      "  accuracy = default_tagger.evaluate([[(word, tag)] for word, tag in test_data['tuples']])\n"
     ]
    }
   ],
   "source": [
    "accuracy = default_tagger.evaluate([[(word, tag)] for word, tag in test_data['tuples']])\n",
    "print(\"Accuracy:\", accuracy)"
   ]
  },
  {
   "cell_type": "code",
   "execution_count": 40,
   "id": "e8e5cfb8",
   "metadata": {},
   "outputs": [],
   "source": [
    "comparison_table['question_step_number'].append(2.1)\n",
    "comparison_table['model_name'].append('baseline model')\n",
    "comparison_table['features'].append(None)\n",
    "comparison_table['accuracy'].append(accuracy)"
   ]
  },
  {
   "cell_type": "markdown",
   "id": "24164796",
   "metadata": {
    "id": "24164796"
   },
   "source": [
    "## [2.2]"
   ]
  },
  {
   "cell_type": "code",
   "execution_count": 67,
   "id": "SexYXq1-P0Y0",
   "metadata": {
    "id": "SexYXq1-P0Y0"
   },
   "outputs": [
    {
     "name": "stderr",
     "output_type": "stream",
     "text": [
      "C:\\Users\\USER\\AppData\\Local\\Temp\\ipykernel_9088\\3595369041.py:15: DeprecationWarning: \n",
      "  Function evaluate() has been deprecated.  Use accuracy(gold)\n",
      "  instead.\n",
      "  accuracy = lookup_tagger.evaluate([tagged_sentences_test])\n"
     ]
    },
    {
     "name": "stdout",
     "output_type": "stream",
     "text": [
      "Accuracy: 0.5425883657927857\n"
     ]
    }
   ],
   "source": [
    "tuple_list = list(train_data['tuples'])\n",
    "tagged_sentences = [(word, tag) for (word, tag) in tuple_list]\n",
    "\n",
    "tuple_list_test = list(test_data['tuples'])\n",
    "tagged_sentences_test = [(word, tag) for (word, tag) in tuple_list]\n",
    "\n",
    "cfd = ConditionalFreqDist(tuple_list)\n",
    "fd = FreqDist(train_data['Word i'])\n",
    "\n",
    "most_freq_words = fd.most_common(100)\n",
    "likely_tags = {word: cfd[word].max() for word, _ in most_freq_words}\n",
    "#print(likely_tags)\n",
    "lookup_tagger = UnigramTagger(model=likely_tags)\n",
    "\n",
    "accuracy = lookup_tagger.evaluate([tagged_sentences_test])\n",
    "print(f'Accuracy: {accuracy}')"
   ]
  },
  {
   "cell_type": "code",
   "execution_count": 68,
   "id": "123a438a",
   "metadata": {},
   "outputs": [
    {
     "name": "stderr",
     "output_type": "stream",
     "text": [
      "C:\\Users\\USER\\AppData\\Local\\Temp\\ipykernel_9088\\154874026.py:3: DeprecationWarning: \n",
      "  Function evaluate() has been deprecated.  Use accuracy(gold)\n",
      "  instead.\n",
      "  backoff_tagger.evaluate([tagged_sentences_test])\n"
     ]
    },
    {
     "data": {
      "text/plain": [
       "0.9697945775293841"
      ]
     },
     "execution_count": 68,
     "metadata": {},
     "output_type": "execute_result"
    }
   ],
   "source": [
    "backoff_tagger = nltk.UnigramTagger(model=likely_tags,backoff=nltk.DefaultTagger('O'))\n",
    "\n",
    "backoff_tagger.evaluate([tagged_sentences_test])"
   ]
  },
  {
   "cell_type": "code",
   "execution_count": 59,
   "id": "792f35f0",
   "metadata": {},
   "outputs": [],
   "source": [
    "comparison_table['question_step_number'].append(2.2)\n",
    "comparison_table['model_name'].append('backoff tager')\n",
    "comparison_table['features'].append(None)\n",
    "comparison_table['accuracy'].append(0.9697945775293841)"
   ]
  },
  {
   "cell_type": "markdown",
   "id": "c3711c29",
   "metadata": {},
   "source": [
    "<div dir=\"rtl\"><b>في مصنف lookup tager تم تصنيف العديد من الكلمات ب None وذلك لأنها لم تكن بين الكلمات ال 100 الاكثر شيوعا \n",
    "اما في backoff tagger تم انشاء UnigramTagger كطبقة اساسية لتسمية الكلمات واستخدمت DefaultTagger ك backoff Tagger في حال عدم القدرة على تسمية الكلمة</b></div>"
   ]
  },
  {
   "cell_type": "markdown",
   "id": "KFerFDFqPwPI",
   "metadata": {
    "id": "KFerFDFqPwPI"
   },
   "source": [
    "## [2.3]"
   ]
  },
  {
   "cell_type": "code",
   "execution_count": 69,
   "id": "aaba455d",
   "metadata": {
    "executionInfo": {
     "elapsed": 412,
     "status": "ok",
     "timestamp": 1702380727042,
     "user": {
      "displayName": "Ola Tabbal",
      "userId": "04260309330816471542"
     },
     "user_tz": -180
    },
    "id": "zU65GmMbP2Sm"
   },
   "outputs": [
    {
     "name": "stdout",
     "output_type": "stream",
     "text": [
      "Unigram Tagging Accuracy: 0.9787751445210009\n"
     ]
    },
    {
     "name": "stderr",
     "output_type": "stream",
     "text": [
      "C:\\Users\\USER\\AppData\\Local\\Temp\\ipykernel_9088\\3845086810.py:2: DeprecationWarning: \n",
      "  Function evaluate() has been deprecated.  Use accuracy(gold)\n",
      "  instead.\n",
      "  accuracy_unigram = unigram_tagger.evaluate([tagged_sentences_test])\n"
     ]
    }
   ],
   "source": [
    "unigram_tagger = nltk.UnigramTagger([tagged_sentences])\n",
    "accuracy_unigram = unigram_tagger.evaluate([tagged_sentences_test])\n",
    "\n",
    "print(f'Unigram Tagging Accuracy: {accuracy_unigram}')"
   ]
  },
  {
   "cell_type": "code",
   "execution_count": 70,
   "id": "d84292fb",
   "metadata": {},
   "outputs": [
    {
     "name": "stdout",
     "output_type": "stream",
     "text": [
      "Bigram Tagging Accuracy: 0.01320420657437232\n"
     ]
    },
    {
     "name": "stderr",
     "output_type": "stream",
     "text": [
      "C:\\Users\\USER\\AppData\\Local\\Temp\\ipykernel_9088\\340105865.py:2: DeprecationWarning: \n",
      "  Function evaluate() has been deprecated.  Use accuracy(gold)\n",
      "  instead.\n",
      "  accuracy_bigram = bigram_tagger.evaluate([tagged_sentences_test])\n"
     ]
    }
   ],
   "source": [
    "bigram_tagger = nltk.BigramTagger([tagged_sentences])\n",
    "accuracy_bigram = bigram_tagger.evaluate([tagged_sentences_test])\n",
    "\n",
    "print(f'Bigram Tagging Accuracy: {accuracy_bigram}')"
   ]
  },
  {
   "cell_type": "markdown",
   "id": "3d0d2c48",
   "metadata": {},
   "source": [
    "<div dir=\"rtl\"><b> كل ما زاد عدد البيانات، زادت فرصة إن البيانات التي نريد ان نستخدمها ممكن تكون غير متوفرة في البيانات اللي استخدمناها للتدريب بالتالي لذلك اكيورسي ال biagram متدني لهذه الدرجة .</b></div>"
   ]
  },
  {
   "cell_type": "markdown",
   "id": "oFmJ2HWqRNZa",
   "metadata": {
    "id": "oFmJ2HWqRNZa"
   },
   "source": [
    "# Question [3]: ML Classification"
   ]
  },
  {
   "cell_type": "markdown",
   "id": "cwaCNfS9RNZc",
   "metadata": {
    "id": "cwaCNfS9RNZc"
   },
   "source": [
    "## [3.1]\n"
   ]
  },
  {
   "cell_type": "markdown",
   "id": "xNMH7H1HzfBI",
   "metadata": {
    "id": "xNMH7H1HzfBI"
   },
   "source": [
    "### [3.1.1]"
   ]
  },
  {
   "cell_type": "code",
   "execution_count": 3,
   "id": "85e308f5",
   "metadata": {},
   "outputs": [],
   "source": [
    "def features1(sentence, index):\n",
    "    return {\n",
    "        'prefix-1': sentence[index][0],\n",
    "        'prefix-2': sentence[index][:2],\n",
    "        'prefix-3': sentence[index][:3],\n",
    "        'suffix-1': sentence[index][-1],\n",
    "        'suffix-2': sentence[index][-2:],\n",
    "        'suffix-3': sentence[index][-3:],\n",
    "        'word-length': len(sentence[index]),\n",
    "    }"
   ]
  },
  {
   "cell_type": "markdown",
   "id": "esQLJB9XziyB",
   "metadata": {
    "id": "esQLJB9XziyB"
   },
   "source": [
    "### [3.1.2]"
   ]
  },
  {
   "cell_type": "code",
   "execution_count": 4,
   "id": "PH8I1BTnzj6w",
   "metadata": {
    "id": "PH8I1BTnzj6w"
   },
   "outputs": [],
   "source": [
    "def features2(sentence, index):\n",
    "    return {\n",
    "        'word': sentence[index],\n",
    "        'prefix-1': sentence[index][0],\n",
    "        'prefix-2': sentence[index][:2],\n",
    "        'prefix-3': sentence[index][:3],\n",
    "        'suffix-1': sentence[index][-1],\n",
    "        'suffix-2': sentence[index][-2:],\n",
    "        'suffix-3': sentence[index][-3:],\n",
    "        'word-length': len(sentence[index]),\n",
    "        'prev_word': '<START>' if index == 0 else sentence[index - 1],\n",
    "        'next_word': '<END>' if index == len(sentence) - 1 else sentence[index + 1],\n",
    "    }"
   ]
  },
  {
   "cell_type": "markdown",
   "id": "Q2kgxioqzkT9",
   "metadata": {
    "id": "Q2kgxioqzkT9"
   },
   "source": [
    "### [3.1.3]"
   ]
  },
  {
   "cell_type": "code",
   "execution_count": 5,
   "id": "SwBNlGEszl3X",
   "metadata": {
    "id": "SwBNlGEszl3X"
   },
   "outputs": [],
   "source": [
    "def features3(sentence, index, pos_tags):\n",
    "    return {\n",
    "        'word': sentence[index],\n",
    "        'prefix-1': sentence[index][0],\n",
    "        'prefix-2': sentence[index][:2],\n",
    "        'prefix-3': sentence[index][:3],\n",
    "        'suffix-1': sentence[index][-1],\n",
    "        'suffix-2': sentence[index][-2:],\n",
    "        'suffix-3': sentence[index][-3:],\n",
    "        'word-length': len(sentence[index]),\n",
    "        'POS': pos_tags[index],\n",
    "    }"
   ]
  },
  {
   "cell_type": "markdown",
   "id": "rqy2zGLdzmIm",
   "metadata": {
    "id": "rqy2zGLdzmIm"
   },
   "source": [
    "### [3.1.4]"
   ]
  },
  {
   "cell_type": "code",
   "execution_count": 6,
   "id": "lmI-VkFcznYi",
   "metadata": {
    "id": "lmI-VkFcznYi"
   },
   "outputs": [],
   "source": [
    "def features4(sentence, index, pos_tags):\n",
    "    return {\n",
    "        'word': sentence[index],\n",
    "        'prefix-1': sentence[index][0],\n",
    "        'prefix-2': sentence[index][:2],\n",
    "        'prefix-3': sentence[index][:3],\n",
    "        'suffix-1': sentence[index][-1],\n",
    "        'suffix-2': sentence[index][-2:],\n",
    "        'suffix-3': sentence[index][-3:],\n",
    "        'word-length': len(sentence[index]),\n",
    "        'prev_POS': '<START>' if index == 0 else pos_tags[index - 1],\n",
    "        'next_POS': '<END>' if index == len(sentence) - 1 else pos_tags[index + 1],\n",
    "    }"
   ]
  },
  {
   "cell_type": "markdown",
   "id": "9b3Bhi2Uzns2",
   "metadata": {
    "id": "9b3Bhi2Uzns2"
   },
   "source": [
    "### [3.1.5]"
   ]
  },
  {
   "cell_type": "code",
   "execution_count": 16,
   "id": "3qRtfrJTzpQY",
   "metadata": {
    "id": "3qRtfrJTzpQY"
   },
   "outputs": [],
   "source": [
    "def features5(sentence, index, pos_tags):\n",
    "    bigram_prev_pos = ('<START>', '<START>') if index == 0 else (pos_tags[index - 2], pos_tags[index - 1]) if index >= 2 else ('<START>', pos_tags[0])\n",
    "    bigram_next_pos = (pos_tags[index], '<END>') if index == len(sentence) - 1 else (pos_tags[index], pos_tags[index + 1]) if index < len(sentence) - 1 else (pos_tags[index], '<END>')\n",
    "\n",
    "    bigram_curr_pos = ('<START>', pos_tags[0]) if index == 0 else (pos_tags[index - 1], pos_tags[index])\n",
    "\n",
    "    word = sentence[index]\n",
    "    return {\n",
    "        'word': word,\n",
    "        'prefix-1': word[0],\n",
    "        'prefix-2': word[:2],\n",
    "        'prefix-3': word[:3],\n",
    "        'suffix-1': word[-1],\n",
    "        'suffix-2': word[-2:],\n",
    "        'suffix-3': word[-3:],\n",
    "        'word-length': len(word),\n",
    "        'bigram_curr_pos': '-'.join(bigram_curr_pos),\n",
    "        'bigram_prev_pos': '-'.join(bigram_prev_pos),\n",
    "        'bigram_next_pos': '-'.join(bigram_next_pos),\n",
    "    }"
   ]
  },
  {
   "cell_type": "markdown",
   "id": "XDjHC6-czpmO",
   "metadata": {
    "id": "XDjHC6-czpmO"
   },
   "source": [
    "### [3.1.6]"
   ]
  },
  {
   "cell_type": "code",
   "execution_count": 42,
   "id": "wOqBTCf5zrBA",
   "metadata": {
    "id": "wOqBTCf5zrBA"
   },
   "outputs": [],
   "source": [
    "def consecutive_features(sentence, index, history):\n",
    "    word = sentence[index]\n",
    "    return {\n",
    "        'word': word,\n",
    "        'prefix-1': word[0],\n",
    "        'prefix-2': word[:2],\n",
    "        'prefix-3': word[:3],\n",
    "        'suffix-1': word[-1],\n",
    "        'suffix-2': word[-2:],\n",
    "        'suffix-3': word[-3:],\n",
    "        'prev_word': '<START>' if index == 0 else sentence[index - 1],\n",
    "        'prev_tag': '<START>' if index == 0 else history[index - 1]['prev_tag'],\n",
    "        'next_word': '<END>' if index == len(sentence) - 1 else sentence[index + 1],\n",
    "    }\n",
    "\n",
    "def consecutive_transform_to_dataset(data):\n",
    "    X, y = [], []\n",
    "    for _, row in data.iterrows():\n",
    "        sentence = row['Word i'].split()\n",
    "        entity_tags = row['Word i entity tag'].split() \n",
    "        history = []  \n",
    "        for index, word in enumerate(sentence):\n",
    "            current_feature = consecutive_features(sentence, index, history)\n",
    "            X.append(current_feature)\n",
    "            y.append(entity_tags[index])\n",
    "            history.append(current_feature)  \n",
    "    return X, y\n",
    "\n",
    "def consecutive_classify(sentence):\n",
    "    history = []\n",
    "    predicted_tags = []\n",
    "    for i, word in enumerate(sentence):\n",
    "        features = consecutive_features(sentence, i, history)\n",
    "        X = vectorizer.transform([features])  \n",
    "        tag = classifier.predict(X)\n",
    "        predicted_tags.append(tag[0])\n",
    "        history.append(features)\n",
    "    return list(zip(sentence, predicted_tags))\n",
    "\n",
    "def consecutive_accurecy(test_data):\n",
    "    count_all = 0.0\n",
    "    count_true = 0.0\n",
    "    for _, row in test_data.iterrows():\n",
    "        sentence = row['Word i'].split()  \n",
    "        true_tags = row['Word i entity tag'].split() \n",
    "        predicted_sentence = consecutive_classify(sentence)\n",
    "        predicted_tags = [tag for _, tag in predicted_sentence]\n",
    "        for i, tag in enumerate(true_tags):\n",
    "            if predicted_tags[i] == tag:\n",
    "                count_true += 1\n",
    "            count_all += 1\n",
    "    return count_true / count_all"
   ]
  },
  {
   "cell_type": "markdown",
   "id": "H6yVZDx9zrQF",
   "metadata": {
    "id": "H6yVZDx9zrQF"
   },
   "source": [
    "### [3.1.7]"
   ]
  },
  {
   "cell_type": "markdown",
   "id": "b048b0a2",
   "metadata": {
    "id": "bcfGNYc6zsTh"
   },
   "source": [
    "<div dir=\"rtl\"><b> يمكننا هنا استخدام ال stop words ك فيتشر ايضا في مسألتنا هذه حيث انها ممكن ان تكون مهمة ليستبعدها النموذج اثناء التدريب</b></div>\n",
    "<div dir=\"rtl\"><b> ال stop words هي الكلمات الشائعة قليلة الاهمية في النص لذلك خيار جيد جدا لاختيارها ك فيتشر هنا</b></div>"
   ]
  },
  {
   "cell_type": "markdown",
   "id": "MbJeF_CxRNZd",
   "metadata": {
    "id": "MbJeF_CxRNZd"
   },
   "source": [
    "## [3.2]"
   ]
  },
  {
   "cell_type": "code",
   "execution_count": 93,
   "id": "7c4d9abd",
   "metadata": {},
   "outputs": [],
   "source": [
    "def transform_to_dataset(data, feature_function):\n",
    "    X, y = [], []\n",
    "    for index, row in data.iterrows():\n",
    "        words = row['Word i'].split()\n",
    "        tags = row['Word i entity tag'].split()\n",
    "        for i in range(len(words)):\n",
    "            X.append(feature_function(words, i))\n",
    "            y.append(tags[i])\n",
    "    return X, y"
   ]
  },
  {
   "cell_type": "code",
   "execution_count": 134,
   "id": "8f8778b3",
   "metadata": {},
   "outputs": [],
   "source": [
    "def transform_to_dataset2(data, feature_function):\n",
    "    X, y = [], []\n",
    "    for index, row in data.iterrows():\n",
    "        words = row['Word i'].split()\n",
    "        tags = row['Word i entity tag'].split()\n",
    "        pos = row['Word i POS']\n",
    "        for i in range(len(words)):\n",
    "            X.append(feature_function(words, i, pos))\n",
    "            y.append(tags[i])\n",
    "    return X, y"
   ]
  },
  {
   "cell_type": "code",
   "execution_count": 135,
   "id": "M_bO-W2DRNZe",
   "metadata": {
    "id": "M_bO-W2DRNZe"
   },
   "outputs": [],
   "source": [
    "classifier = MultinomialNB()\n",
    "vectorizer = DictVectorizer(sparse=False)\n",
    "\n",
    "def train(X,y, cutoff_size=0):\n",
    "    if (cutoff_size > 0):\n",
    "        XX = vectorizer.fit_transform(X[:cutoff_size])\n",
    "    else:\n",
    "        XX = vectorizer.fit_transform(X)\n",
    "\n",
    "    d1 = datetime.datetime.now()\n",
    "    if (cutoff_size > 0):\n",
    "        classifier.fit(XX[:cutoff_size], y[:cutoff_size])\n",
    "    else:\n",
    "        classifier.fit(XX, y)\n",
    "    d2 = datetime.datetime.now()\n",
    "    print ('Training completed in ' + str(d2-d1))"
   ]
  },
  {
   "cell_type": "code",
   "execution_count": 200,
   "id": "0eab91fb",
   "metadata": {},
   "outputs": [
    {
     "name": "stdout",
     "output_type": "stream",
     "text": [
      "Training completed in 0:00:00.036863\n",
      "Accuracy: 0.961476930952838\n"
     ]
    }
   ],
   "source": [
    "X, y = transform_to_dataset(train_data, features1)\n",
    "train(X,y,5000)\n",
    "X_test, y_test = transform_to_dataset(test_data, features1)\n",
    "print (\"Accuracy:\", classifier.score(vectorizer.transform(X_test), y_test))"
   ]
  },
  {
   "cell_type": "code",
   "execution_count": 201,
   "id": "40b11e90",
   "metadata": {},
   "outputs": [],
   "source": [
    "clear_session()"
   ]
  },
  {
   "cell_type": "code",
   "execution_count": 202,
   "id": "0a09febe",
   "metadata": {},
   "outputs": [
    {
     "name": "stdout",
     "output_type": "stream",
     "text": [
      "Training completed in 0:00:00.059988\n",
      "Accuracy: 0.9679401036667307\n"
     ]
    }
   ],
   "source": [
    "X, y = transform_to_dataset(train_data, features2)\n",
    "train(X,y,5000)\n",
    "X_test, y_test = transform_to_dataset(test_data, features2)\n",
    "print (\"Accuracy:\", classifier.score(vectorizer.transform(X_test), y_test))"
   ]
  },
  {
   "cell_type": "code",
   "execution_count": 203,
   "id": "1beb118e",
   "metadata": {},
   "outputs": [],
   "source": [
    "clear_session()"
   ]
  },
  {
   "cell_type": "code",
   "execution_count": 204,
   "id": "9f045fe9",
   "metadata": {},
   "outputs": [
    {
     "name": "stdout",
     "output_type": "stream",
     "text": [
      "Training completed in 0:00:00.062964\n",
      "Accuracy: 0.9619888654252255\n"
     ]
    }
   ],
   "source": [
    "X, y = transform_to_dataset2(train_data, features3)\n",
    "train(X,y,5000)\n",
    "X_test, y_test = transform_to_dataset2(test_data, features3)\n",
    "print (\"Accuracy:\", classifier.score(vectorizer.transform(X_test), y_test))"
   ]
  },
  {
   "cell_type": "code",
   "execution_count": 205,
   "id": "c0cc9440",
   "metadata": {},
   "outputs": [],
   "source": [
    "clear_session()"
   ]
  },
  {
   "cell_type": "code",
   "execution_count": 206,
   "id": "1f32c3e3",
   "metadata": {},
   "outputs": [
    {
     "name": "stdout",
     "output_type": "stream",
     "text": [
      "Training completed in 0:00:00.058862\n",
      "Accuracy: 0.9679401036667307\n"
     ]
    }
   ],
   "source": [
    "X, y = transform_to_dataset2(train_data, features4)\n",
    "train(X,y,5000)\n",
    "X_test, y_test = transform_to_dataset2(test_data, features4)\n",
    "print (\"Accuracy:\", classifier.score(vectorizer.transform(X_test), y_test))"
   ]
  },
  {
   "cell_type": "code",
   "execution_count": 207,
   "id": "6fc06e3a",
   "metadata": {},
   "outputs": [],
   "source": [
    "clear_session()"
   ]
  },
  {
   "cell_type": "code",
   "execution_count": 136,
   "id": "5b2ff944",
   "metadata": {},
   "outputs": [
    {
     "name": "stdout",
     "output_type": "stream",
     "text": [
      "Training completed in 0:00:00.069813\n",
      "Accuracy: 0.9673001855762462\n"
     ]
    }
   ],
   "source": [
    "X, y = transform_to_dataset2(train_data, features5)\n",
    "train(X,y,5000)\n",
    "X_test, y_test = transform_to_dataset2(test_data, features5)\n",
    "print (\"Accuracy:\", classifier.score(vectorizer.transform(X_test), y_test))"
   ]
  },
  {
   "cell_type": "code",
   "execution_count": 66,
   "id": "5b28a497",
   "metadata": {},
   "outputs": [],
   "source": [
    "clear_session()"
   ]
  },
  {
   "cell_type": "code",
   "execution_count": 149,
   "id": "5bf9e0ab",
   "metadata": {},
   "outputs": [
    {
     "name": "stdout",
     "output_type": "stream",
     "text": [
      "Training completed in 0:00:00.087768\n",
      "Accuracy: 0.9679401036667307\n"
     ]
    }
   ],
   "source": [
    "X, y = consecutive_transform_to_dataset(train_data)\n",
    "train(X,y,5000)\n",
    "test_X, test_y = consecutive_transform_to_dataset(test_data)\n",
    "print(\"Accuracy: \" + str(consecutive_accurecy(test_data)))"
   ]
  },
  {
   "cell_type": "markdown",
   "id": "GY-HhD2YRNZe",
   "metadata": {
    "id": "GY-HhD2YRNZe"
   },
   "source": [
    "## [3.3]"
   ]
  },
  {
   "cell_type": "code",
   "execution_count": 46,
   "id": "e4ef48ad",
   "metadata": {},
   "outputs": [],
   "source": [
    "model = LogisticRegression(multi_class='multinomial', solver='lbfgs')"
   ]
  },
  {
   "cell_type": "code",
   "execution_count": 58,
   "id": "l-5TSuHWRNZe",
   "metadata": {
    "id": "l-5TSuHWRNZe"
   },
   "outputs": [
    {
     "name": "stderr",
     "output_type": "stream",
     "text": [
      "C:\\Users\\USER\\anaconda3\\Lib\\site-packages\\sklearn\\linear_model\\_logistic.py:460: ConvergenceWarning: lbfgs failed to converge (status=1):\n",
      "STOP: TOTAL NO. of ITERATIONS REACHED LIMIT.\n",
      "\n",
      "Increase the number of iterations (max_iter) or scale the data as shown in:\n",
      "    https://scikit-learn.org/stable/modules/preprocessing.html\n",
      "Please also refer to the documentation for alternative solver options:\n",
      "    https://scikit-learn.org/stable/modules/linear_model.html#logistic-regression\n",
      "  n_iter_i = _check_optimize_result(\n"
     ]
    },
    {
     "name": "stdout",
     "output_type": "stream",
     "text": [
      "Accuracy: 0.976172699929606\n"
     ]
    }
   ],
   "source": [
    "X_train, y_train = transform_to_dataset(train_data, features1)\n",
    "\n",
    "X_test, y_test = transform_to_dataset(train_data, features1)\n",
    "\n",
    "vectorizer = DictVectorizer(sparse=False)\n",
    "X_train_vectorized = vectorizer.fit_transform(X_train)\n",
    "X_test_vectorized = vectorizer.transform(X_test)\n",
    "\n",
    "model.fit(X_train_vectorized, y_train)\n",
    "\n",
    "predictions = model.predict(X_test_vectorized)\n",
    "\n",
    "accuracy = accuracy_score(y_test, predictions)\n",
    "print(f'Accuracy: {accuracy}')"
   ]
  },
  {
   "cell_type": "code",
   "execution_count": 72,
   "id": "2b18844b",
   "metadata": {},
   "outputs": [],
   "source": [
    "clear_session()"
   ]
  },
  {
   "cell_type": "code",
   "execution_count": 74,
   "id": "0088f2b7",
   "metadata": {},
   "outputs": [
    {
     "name": "stderr",
     "output_type": "stream",
     "text": [
      "C:\\Users\\USER\\anaconda3\\Lib\\site-packages\\sklearn\\linear_model\\_logistic.py:460: ConvergenceWarning: lbfgs failed to converge (status=1):\n",
      "STOP: TOTAL NO. of ITERATIONS REACHED LIMIT.\n",
      "\n",
      "Increase the number of iterations (max_iter) or scale the data as shown in:\n",
      "    https://scikit-learn.org/stable/modules/preprocessing.html\n",
      "Please also refer to the documentation for alternative solver options:\n",
      "    https://scikit-learn.org/stable/modules/linear_model.html#logistic-regression\n",
      "  n_iter_i = _check_optimize_result(\n"
     ]
    },
    {
     "name": "stdout",
     "output_type": "stream",
     "text": [
      "Accuracy: 0.9777512318948783\n"
     ]
    }
   ],
   "source": [
    "X_train, y_train = transform_to_dataset(train_data, features2)\n",
    "\n",
    "X_test, y_test = transform_to_dataset(train_data, features2)\n",
    "\n",
    "vectorizer = DictVectorizer(sparse=False)\n",
    "X_train_vectorized = vectorizer.fit_transform(X_train)\n",
    "X_test_vectorized = vectorizer.transform(X_test)\n",
    "\n",
    "model.fit(X_train_vectorized, y_train)\n",
    "\n",
    "predictions = model.predict(X_test_vectorized)\n",
    "\n",
    "accuracy = accuracy_score(y_test, predictions)\n",
    "print(f'Accuracy: {accuracy}')"
   ]
  },
  {
   "cell_type": "code",
   "execution_count": 75,
   "id": "e41a5ccf",
   "metadata": {},
   "outputs": [],
   "source": [
    "clear_session()"
   ]
  },
  {
   "cell_type": "code",
   "execution_count": 76,
   "id": "942065ca",
   "metadata": {},
   "outputs": [
    {
     "name": "stderr",
     "output_type": "stream",
     "text": [
      "C:\\Users\\USER\\anaconda3\\Lib\\site-packages\\sklearn\\linear_model\\_logistic.py:460: ConvergenceWarning: lbfgs failed to converge (status=1):\n",
      "STOP: TOTAL NO. of ITERATIONS REACHED LIMIT.\n",
      "\n",
      "Increase the number of iterations (max_iter) or scale the data as shown in:\n",
      "    https://scikit-learn.org/stable/modules/preprocessing.html\n",
      "Please also refer to the documentation for alternative solver options:\n",
      "    https://scikit-learn.org/stable/modules/linear_model.html#logistic-regression\n",
      "  n_iter_i = _check_optimize_result(\n"
     ]
    },
    {
     "name": "stdout",
     "output_type": "stream",
     "text": [
      "Accuracy: 0.9784338403122933\n"
     ]
    }
   ],
   "source": [
    "X_train, y_train = transform_to_dataset2(train_data, features3)\n",
    "\n",
    "X_test, y_test = transform_to_dataset2(train_data, features3)\n",
    "\n",
    "vectorizer = DictVectorizer(sparse=False)\n",
    "X_train_vectorized = vectorizer.fit_transform(X_train)\n",
    "X_test_vectorized = vectorizer.transform(X_test)\n",
    "\n",
    "model.fit(X_train_vectorized, y_train)\n",
    "\n",
    "predictions = model.predict(X_test_vectorized)\n",
    "\n",
    "accuracy = accuracy_score(y_test, predictions)\n",
    "print(f'Accuracy: {accuracy}')"
   ]
  },
  {
   "cell_type": "code",
   "execution_count": 77,
   "id": "42d359d2",
   "metadata": {},
   "outputs": [],
   "source": [
    "clear_session()"
   ]
  },
  {
   "cell_type": "code",
   "execution_count": 78,
   "id": "7c9f3734",
   "metadata": {},
   "outputs": [
    {
     "name": "stderr",
     "output_type": "stream",
     "text": [
      "C:\\Users\\USER\\anaconda3\\Lib\\site-packages\\sklearn\\linear_model\\_logistic.py:460: ConvergenceWarning: lbfgs failed to converge (status=1):\n",
      "STOP: TOTAL NO. of ITERATIONS REACHED LIMIT.\n",
      "\n",
      "Increase the number of iterations (max_iter) or scale the data as shown in:\n",
      "    https://scikit-learn.org/stable/modules/preprocessing.html\n",
      "Please also refer to the documentation for alternative solver options:\n",
      "    https://scikit-learn.org/stable/modules/linear_model.html#logistic-regression\n",
      "  n_iter_i = _check_optimize_result(\n"
     ]
    },
    {
     "name": "stdout",
     "output_type": "stream",
     "text": [
      "Accuracy: 0.9777512318948783\n"
     ]
    }
   ],
   "source": [
    "X_train, y_train = transform_to_dataset2(train_data, features4)\n",
    "\n",
    "X_test, y_test = transform_to_dataset2(train_data, features4)\n",
    "\n",
    "vectorizer = DictVectorizer(sparse=False)\n",
    "X_train_vectorized = vectorizer.fit_transform(X_train)\n",
    "X_test_vectorized = vectorizer.transform(X_test)\n",
    "\n",
    "model.fit(X_train_vectorized, y_train)\n",
    "\n",
    "predictions = model.predict(X_test_vectorized)\n",
    "\n",
    "accuracy = accuracy_score(y_test, predictions)\n",
    "print(f'Accuracy: {accuracy}')"
   ]
  },
  {
   "cell_type": "code",
   "execution_count": 79,
   "id": "a983613d",
   "metadata": {},
   "outputs": [],
   "source": [
    "clear_session()"
   ]
  },
  {
   "cell_type": "code",
   "execution_count": 80,
   "id": "bd47d761",
   "metadata": {},
   "outputs": [
    {
     "name": "stderr",
     "output_type": "stream",
     "text": [
      "C:\\Users\\USER\\anaconda3\\Lib\\site-packages\\sklearn\\linear_model\\_logistic.py:460: ConvergenceWarning: lbfgs failed to converge (status=1):\n",
      "STOP: TOTAL NO. of ITERATIONS REACHED LIMIT.\n",
      "\n",
      "Increase the number of iterations (max_iter) or scale the data as shown in:\n",
      "    https://scikit-learn.org/stable/modules/preprocessing.html\n",
      "Please also refer to the documentation for alternative solver options:\n",
      "    https://scikit-learn.org/stable/modules/linear_model.html#logistic-regression\n",
      "  n_iter_i = _check_optimize_result(\n"
     ]
    },
    {
     "name": "stdout",
     "output_type": "stream",
     "text": [
      "Accuracy: 0.9778365579470552\n"
     ]
    }
   ],
   "source": [
    "X_train, y_train = transform_to_dataset2(train_data, features5)\n",
    "\n",
    "X_test, y_test = transform_to_dataset2(train_data, features5)\n",
    "\n",
    "vectorizer = DictVectorizer(sparse=False)\n",
    "X_train_vectorized = vectorizer.fit_transform(X_train)\n",
    "X_test_vectorized = vectorizer.transform(X_test)\n",
    "\n",
    "model.fit(X_train_vectorized, y_train)\n",
    "\n",
    "predictions = model.predict(X_test_vectorized)\n",
    "\n",
    "accuracy = accuracy_score(y_test, predictions)\n",
    "print(f'Accuracy: {accuracy}')"
   ]
  },
  {
   "cell_type": "code",
   "execution_count": 83,
   "id": "5aefd712",
   "metadata": {},
   "outputs": [],
   "source": [
    "clear_session()"
   ]
  },
  {
   "cell_type": "code",
   "execution_count": 148,
   "id": "04b34039",
   "metadata": {},
   "outputs": [
    {
     "name": "stderr",
     "output_type": "stream",
     "text": [
      "C:\\Users\\USER\\anaconda3\\Lib\\site-packages\\sklearn\\linear_model\\_logistic.py:460: ConvergenceWarning: lbfgs failed to converge (status=1):\n",
      "STOP: TOTAL NO. of ITERATIONS REACHED LIMIT.\n",
      "\n",
      "Increase the number of iterations (max_iter) or scale the data as shown in:\n",
      "    https://scikit-learn.org/stable/modules/preprocessing.html\n",
      "Please also refer to the documentation for alternative solver options:\n",
      "    https://scikit-learn.org/stable/modules/linear_model.html#logistic-regression\n",
      "  n_iter_i = _check_optimize_result(\n"
     ]
    },
    {
     "name": "stdout",
     "output_type": "stream",
     "text": [
      "Accuracy: 0.9726754975363153\n"
     ]
    }
   ],
   "source": [
    "vectorizer = DictVectorizer(sparse=False)\n",
    "X, y = consecutive_transform_to_dataset(train_data)\n",
    "X = vectorizer.fit_transform(X)\n",
    "\n",
    "model.fit(X, y)\n",
    "\n",
    "test_X, test_y = consecutive_transform_to_dataset(test_data)\n",
    "test_X = vectorizer.transform(test_X)\n",
    "\n",
    "accuracy = model.score(test_X, test_y)\n",
    "print(\"Accuracy:\", accuracy)"
   ]
  },
  {
   "cell_type": "markdown",
   "id": "KV9D86kbRNZe",
   "metadata": {
    "id": "KV9D86kbRNZe"
   },
   "source": [
    "## [3.4]"
   ]
  },
  {
   "cell_type": "code",
   "execution_count": 89,
   "id": "1s_kg30Dv9lY",
   "metadata": {
    "id": "1s_kg30Dv9lY"
   },
   "outputs": [],
   "source": [
    "from sklearn_crfsuite import metrics\n",
    "from sklearn_crfsuite import CRF\n",
    "from sklearn.feature_extraction import DictVectorizer"
   ]
  },
  {
   "cell_type": "code",
   "execution_count": 96,
   "id": "607486cf",
   "metadata": {},
   "outputs": [],
   "source": [
    "def transform_to_dataset(data, feature_function):\n",
    "    X, y = [], []\n",
    "    for index, row in data.iterrows():\n",
    "        words = row['Word i'].split()\n",
    "        tags = row['Word i entity tag'].split()  # Assuming the tags are space-separated\n",
    "        sentence_features = [feature_function(words, i) for i in range(len(words))]\n",
    "        sentence_labels = tags\n",
    "        X.append(sentence_features)\n",
    "        y.append(sentence_labels)\n",
    "    return X, y"
   ]
  },
  {
   "cell_type": "code",
   "execution_count": 130,
   "id": "46c503f0",
   "metadata": {},
   "outputs": [],
   "source": [
    "def transform_to_dataset2(data, feature_function):\n",
    "    X, y = [], []\n",
    "    for index, row in data.iterrows():\n",
    "        words = row['Word i'].split()\n",
    "        tags = row['Word i entity tag'].split()  # Assuming the tags are space-separated\n",
    "        pos_tags = row['Word i POS'].split()  # Assuming the POS tags are space-separated\n",
    "        sentence_features = [feature_function(words, i, pos_tags) for i in range(len(words))]\n",
    "        sentence_labels = tags\n",
    "        X.append(sentence_features)\n",
    "        y.append(sentence_labels)\n",
    "    return X, y"
   ]
  },
  {
   "cell_type": "code",
   "execution_count": 150,
   "id": "ec576f34",
   "metadata": {},
   "outputs": [],
   "source": [
    "crf = CRF(\n",
    "    c1=0.1,\n",
    "    c2=0.1,\n",
    "    max_iterations=100,\n",
    "    all_possible_transitions=True\n",
    ")"
   ]
  },
  {
   "cell_type": "code",
   "execution_count": 151,
   "id": "7400372b",
   "metadata": {},
   "outputs": [
    {
     "name": "stdout",
     "output_type": "stream",
     "text": [
      "0.9726754975363153\n"
     ]
    }
   ],
   "source": [
    "X, y = transform_to_dataset(train_data, features1)\n",
    "crf.fit(X, y)\n",
    "\n",
    "X_test, y_test = transform_to_dataset(test_data, features1)\n",
    "y_pred = crf.predict(X_test)\n",
    "print(metrics.flat_accuracy_score(y_test, y_pred))"
   ]
  },
  {
   "cell_type": "code",
   "execution_count": 106,
   "id": "7aeb81a7",
   "metadata": {},
   "outputs": [],
   "source": [
    "clear_session()"
   ]
  },
  {
   "cell_type": "code",
   "execution_count": 107,
   "id": "f6b673e3",
   "metadata": {},
   "outputs": [
    {
     "name": "stdout",
     "output_type": "stream",
     "text": [
      "0.9710117105010558\n"
     ]
    }
   ],
   "source": [
    "X, y = transform_to_dataset(train_data, features2)\n",
    "crf.fit(X, y)\n",
    "\n",
    "X_test, y_test = transform_to_dataset(test_data, features2)\n",
    "y_pred = crf.predict(X_test)\n",
    "print(metrics.flat_accuracy_score(y_test, y_pred))"
   ]
  },
  {
   "cell_type": "code",
   "execution_count": 108,
   "id": "1394e5ec",
   "metadata": {},
   "outputs": [],
   "source": [
    "clear_session()"
   ]
  },
  {
   "cell_type": "code",
   "execution_count": 109,
   "id": "a12799f6",
   "metadata": {},
   "outputs": [
    {
     "name": "stdout",
     "output_type": "stream",
     "text": [
      "0.972035579445831\n"
     ]
    }
   ],
   "source": [
    "X, y = transform_to_dataset2(train_data, features3)\n",
    "crf.fit(X, y)\n",
    "\n",
    "X_test, y_test = transform_to_dataset2(test_data, features3)\n",
    "y_pred = crf.predict(X_test)\n",
    "print(metrics.flat_accuracy_score(y_test, y_pred))"
   ]
  },
  {
   "cell_type": "code",
   "execution_count": 110,
   "id": "f16fd0d6",
   "metadata": {},
   "outputs": [],
   "source": [
    "clear_session()"
   ]
  },
  {
   "cell_type": "code",
   "execution_count": 111,
   "id": "15b0d3e4",
   "metadata": {},
   "outputs": [
    {
     "name": "stdout",
     "output_type": "stream",
     "text": [
      "0.9710117105010558\n"
     ]
    }
   ],
   "source": [
    "X, y = transform_to_dataset2(train_data, features4)\n",
    "crf.fit(X, y)\n",
    "\n",
    "X_test, y_test = transform_to_dataset2(test_data, features4)\n",
    "y_pred = crf.predict(X_test)\n",
    "print(metrics.flat_accuracy_score(y_test, y_pred))"
   ]
  },
  {
   "cell_type": "code",
   "execution_count": 114,
   "id": "7369a8f1",
   "metadata": {},
   "outputs": [],
   "source": [
    "clear_session()"
   ]
  },
  {
   "cell_type": "code",
   "execution_count": 133,
   "id": "4dec0c6e",
   "metadata": {},
   "outputs": [
    {
     "name": "stdout",
     "output_type": "stream",
     "text": [
      "0.972611505727267\n"
     ]
    }
   ],
   "source": [
    "X, y = transform_to_dataset2(train_data, features5)\n",
    "crf.fit(X, y)\n",
    "\n",
    "X_test, y_test = transform_to_dataset2(test_data, features5)\n",
    "y_pred = crf.predict(X_test)\n",
    "print(metrics.flat_accuracy_score(y_test, y_pred))"
   ]
  },
  {
   "cell_type": "code",
   "execution_count": 153,
   "id": "756fcc4f",
   "metadata": {},
   "outputs": [],
   "source": [
    "clear_session()"
   ]
  },
  {
   "cell_type": "code",
   "execution_count": 154,
   "id": "852cd8f1",
   "metadata": {},
   "outputs": [
    {
     "name": "stdout",
     "output_type": "stream",
     "text": [
      "Accuracy: 0.957125487937544\n"
     ]
    }
   ],
   "source": [
    "X, y = consecutive_transform_to_dataset(train_data)\n",
    "X = vectorizer.fit_transform(X)\n",
    "\n",
    "# Reshape X to be a list of lists\n",
    "X = [X[i:i+len(sentence)] for i, sentence in enumerate(train_data['Word i'].str.split())]\n",
    "\n",
    "crf.fit(X, y)\n",
    "\n",
    "test_X, test_y = consecutive_transform_to_dataset(test_data)\n",
    "\n",
    "# Transform test_X using the same vectorizer\n",
    "test_X = vectorizer.transform(test_X)\n",
    "\n",
    "# Reshape test_X to be a list of lists\n",
    "test_X = [test_X[i:i+len(sentence)] for i, sentence in enumerate(test_data['Word i'].str.split())]\n",
    "\n",
    "accuracy = crf.score(test_X, test_y)\n",
    "print(\"Accuracy:\", accuracy)"
   ]
  },
  {
   "cell_type": "markdown",
   "id": "3ztGb8ulv9lY",
   "metadata": {
    "id": "3ztGb8ulv9lY"
   },
   "source": [
    "## [3.5]"
   ]
  },
  {
   "cell_type": "code",
   "execution_count": 7,
   "id": "8c47a8b9",
   "metadata": {},
   "outputs": [],
   "source": [
    "import pandas as pd\n",
    "import nltk\n",
    "from nltk.tag.hmm import HiddenMarkovModelTrainer\n",
    "from nltk.probability import LidstoneProbDist"
   ]
  },
  {
   "cell_type": "code",
   "execution_count": 20,
   "id": "93fc2c4d",
   "metadata": {},
   "outputs": [],
   "source": [
    "def transform_to_hmm_test_dataset(data, feature_func):\n",
    "    sentences = [list(zip(data['Word i'], data['Word i entity tag']))]\n",
    "    transformed_data = []\n",
    "\n",
    "    for sentence in sentences:\n",
    "        features = [tuple(feature_func(sentence, i).items()) for i in range(len(sentence))]\n",
    "        transformed_data.append((features, [tag for (word, tag) in sentence]))\n",
    "\n",
    "    return transformed_data"
   ]
  },
  {
   "cell_type": "code",
   "execution_count": 21,
   "id": "db140da8",
   "metadata": {},
   "outputs": [
    {
     "name": "stdout",
     "output_type": "stream",
     "text": [
      "Vocabulary length: 4411\n",
      "Tagset length: 3\n",
      "Training HMM...\n",
      "Testing...\n"
     ]
    },
    {
     "name": "stderr",
     "output_type": "stream",
     "text": [
      "C:\\Users\\USER\\AppData\\Local\\Temp\\ipykernel_5088\\68693585.py:25: DeprecationWarning: \n",
      "  Function evaluate() has been deprecated.  Use accuracy(gold)\n",
      "  instead.\n",
      "  accuracy = hmm.evaluate(tagged_sentences)\n"
     ]
    },
    {
     "name": "stdout",
     "output_type": "stream",
     "text": [
      "Accuracy is 1.0\n"
     ]
    }
   ],
   "source": [
    "# Transforming data for training\n",
    "transformed_train_data = transform_to_hmm_test_dataset(train_data, features1)\n",
    "\n",
    "# Create vocabulary and tag set based on extracted features\n",
    "symbols = [feature for features, tags in transformed_train_data for feature in features]\n",
    "tag_set = [tag for features, tags in transformed_train_data for tag in tags]\n",
    "\n",
    "print(\"Vocabulary length: \" + str(len(set(symbols))))\n",
    "print(\"Tagset length: \" + str(len( (tag_set))))\n",
    "\n",
    "# Training HMM\n",
    "print('Training HMM...')\n",
    "trainer = HiddenMarkovModelTrainer(tag_set, symbols)\n",
    "hmm = trainer.train_supervised(transformed_train_data, estimator=lambda fd, bins: LidstoneProbDist(fd, 0.1, bins))\n",
    "\n",
    "# Transforming data for testing\n",
    "transformed_test_data = transform_to_hmm_test_dataset(test_data, features1)\n",
    "\n",
    "# Testing\n",
    "print('Testing...')\n",
    "test_sentences = [sentence for sentence, _ in transformed_test_data]\n",
    "tagged_sentences = hmm.tag_sents(test_sentences)\n",
    "\n",
    "# Calculate accuracy\n",
    "accuracy = hmm.evaluate(tagged_sentences)\n",
    "print(\"Accuracy is \" + str(accuracy))"
   ]
  },
  {
   "cell_type": "code",
   "execution_count": 65,
   "id": "5c102db7",
   "metadata": {},
   "outputs": [],
   "source": [
    "clear_session()"
   ]
  },
  {
   "cell_type": "markdown",
   "id": "Jp-C0ZwrS8AY",
   "metadata": {
    "id": "Jp-C0ZwrS8AY"
   },
   "source": [
    "# DL Classification"
   ]
  },
  {
   "cell_type": "markdown",
   "id": "pwtVy8DES8AZ",
   "metadata": {
    "id": "pwtVy8DES8AZ"
   },
   "source": [
    "## [4.1]\n"
   ]
  },
  {
   "cell_type": "code",
   "execution_count": 48,
   "id": "74759e97",
   "metadata": {},
   "outputs": [],
   "source": [
    "sentences_df = sentences_df.drop('Sentence', axis=1)\n",
    "sentences_df = sentences_df.drop('tuples_list', axis=1)"
   ]
  },
  {
   "cell_type": "code",
   "execution_count": 51,
   "id": "271cf2b0",
   "metadata": {},
   "outputs": [],
   "source": [
    "(train_sentences,\n",
    " test_sentences,\n",
    " train_tags,\n",
    " test_tags) = train_test_split(sentences_df['Tokens'], sentences_df['classification_list'], test_size=0.2)"
   ]
  },
  {
   "cell_type": "code",
   "execution_count": 53,
   "id": "344f6fcc",
   "metadata": {},
   "outputs": [],
   "source": [
    "words, tags = set([]), set([])\n",
    "\n",
    "for s in train_sentences:\n",
    "    for w in s:\n",
    "        words.add(w.lower())\n",
    "\n",
    "for ts in train_tags:\n",
    "    for t in ts:\n",
    "        tags.add(t)\n",
    "\n",
    "word2index = {w: i + 2 for i, w in enumerate(list(words))}\n",
    "word2index['-PAD-'] = 0\n",
    "word2index['-OOV-'] = 1 \n",
    "\n",
    "tag2index = {t: i + 1 for i, t in enumerate(list(tags))}\n",
    "tag2index['-PAD-'] = 0  "
   ]
  },
  {
   "cell_type": "code",
   "execution_count": 54,
   "id": "646401de",
   "metadata": {},
   "outputs": [],
   "source": [
    "train_sentences_X, test_sentences_X, train_tags_y, test_tags_y = [], [], [], []\n",
    "\n",
    "for s in train_sentences:\n",
    "    s_int = []\n",
    "    for w in s:\n",
    "        try:\n",
    "            s_int.append(word2index[w.lower()])\n",
    "        except KeyError:\n",
    "            s_int.append(word2index['-OOV-'])\n",
    "\n",
    "    train_sentences_X.append(s_int)\n",
    "\n",
    "for s in test_sentences:\n",
    "    s_int = []\n",
    "    for w in s:\n",
    "        try:\n",
    "            s_int.append(word2index[w.lower()])\n",
    "        except KeyError:\n",
    "            s_int.append(word2index['-OOV-'])\n",
    "\n",
    "    test_sentences_X.append(s_int)\n",
    "\n",
    "for s in train_tags:\n",
    "    train_tags_y.append([tag2index[t] for t in s])\n",
    "\n",
    "for s in test_tags:\n",
    "    test_tags_y.append([tag2index[t] for t in s])"
   ]
  },
  {
   "cell_type": "code",
   "execution_count": 57,
   "id": "59851ab5",
   "metadata": {},
   "outputs": [],
   "source": [
    "from keras.preprocessing.sequence import pad_sequences"
   ]
  },
  {
   "cell_type": "code",
   "execution_count": 58,
   "id": "c57f4ce3",
   "metadata": {},
   "outputs": [],
   "source": [
    "MAX_LENGTH = len(max(train_sentences_X, key=len))\n",
    "\n",
    "train_sentences_X = pad_sequences(train_sentences_X, maxlen=MAX_LENGTH, padding='post')\n",
    "test_sentences_X = pad_sequences(test_sentences_X, maxlen=MAX_LENGTH, padding='post')\n",
    "train_tags_y = pad_sequences(train_tags_y, maxlen=MAX_LENGTH, padding='post')\n",
    "test_tags_y = pad_sequences(test_tags_y, maxlen=MAX_LENGTH, padding='post')"
   ]
  },
  {
   "cell_type": "markdown",
   "id": "ffe7d36b",
   "metadata": {},
   "source": [
    "## [4.2]"
   ]
  },
  {
   "cell_type": "code",
   "execution_count": 92,
   "id": "d44afa73",
   "metadata": {},
   "outputs": [
    {
     "name": "stdout",
     "output_type": "stream",
     "text": [
      "Model: \"sequential_1\"\n",
      "_________________________________________________________________\n",
      " Layer (type)                Output Shape              Param #   \n",
      "=================================================================\n",
      " embedding_1 (Embedding)     (None, 128, 128)          557952    \n",
      "                                                                 \n",
      " bidirectional_1 (Bidirecti  (None, 128, 512)          788480    \n",
      " onal)                                                           \n",
      "                                                                 \n",
      " time_distributed_1 (TimeDi  (None, 128, 4)            2052      \n",
      " stributed)                                                      \n",
      "                                                                 \n",
      " activation_1 (Activation)   (None, 128, 4)            0         \n",
      "                                                                 \n",
      "=================================================================\n",
      "Total params: 1348484 (5.14 MB)\n",
      "Trainable params: 1348484 (5.14 MB)\n",
      "Non-trainable params: 0 (0.00 Byte)\n",
      "_________________________________________________________________\n"
     ]
    }
   ],
   "source": [
    "from keras.models import Sequential\n",
    "from keras.layers import Dense, LSTM, InputLayer, Bidirectional, TimeDistributed, Embedding, Activation\n",
    "\n",
    "\n",
    "model = Sequential()\n",
    "model.add(InputLayer(input_shape=(MAX_LENGTH, )))\n",
    "model.add(Embedding(len(word2index), 128)) #128 input dimention \n",
    "model.add(Bidirectional(LSTM(256, return_sequences=True)))\n",
    "model.add(TimeDistributed(Dense(len(tag2index))))\n",
    "model.add(Activation('softmax'))\n",
    "\n",
    "model.compile(loss='categorical_crossentropy',\n",
    "              optimizer='adam',\n",
    "              metrics=['accuracy'])\n",
    "\n",
    "model.summary()"
   ]
  },
  {
   "cell_type": "code",
   "execution_count": 93,
   "id": "86ec62f5",
   "metadata": {},
   "outputs": [],
   "source": [
    "def to_categorical(sequences, categories): #OHE\n",
    "    cat_sequences = []\n",
    "    for s in sequences:\n",
    "        cats = []\n",
    "        for item in s:\n",
    "            cats.append(np.zeros(categories))\n",
    "            cats[-1][item] = 1.0\n",
    "        cat_sequences.append(cats)\n",
    "    return np.array(cat_sequences)"
   ]
  },
  {
   "cell_type": "code",
   "execution_count": 94,
   "id": "f1e58525",
   "metadata": {},
   "outputs": [],
   "source": [
    "cat_train_tags_y = to_categorical(train_tags_y, len(tag2index))"
   ]
  },
  {
   "cell_type": "code",
   "execution_count": 95,
   "id": "aea85ac7",
   "metadata": {},
   "outputs": [
    {
     "name": "stdout",
     "output_type": "stream",
     "text": [
      "Epoch 1/5\n",
      "19/19 [==============================] - 45s 2s/step - loss: 0.4263 - accuracy: 0.8762 - val_loss: 0.1317 - val_accuracy: 0.9797\n",
      "Epoch 2/5\n",
      "19/19 [==============================] - 39s 2s/step - loss: 0.0805 - accuracy: 0.9792 - val_loss: 0.0634 - val_accuracy: 0.9811\n",
      "Epoch 3/5\n",
      "19/19 [==============================] - 39s 2s/step - loss: 0.0504 - accuracy: 0.9878 - val_loss: 0.0441 - val_accuracy: 0.9894\n",
      "Epoch 4/5\n",
      "19/19 [==============================] - 39s 2s/step - loss: 0.0391 - accuracy: 0.9917 - val_loss: 0.0388 - val_accuracy: 0.9911\n",
      "Epoch 5/5\n",
      "19/19 [==============================] - 44s 2s/step - loss: 0.0350 - accuracy: 0.9929 - val_loss: 0.0361 - val_accuracy: 0.9918\n"
     ]
    }
   ],
   "source": [
    "history = model.fit(train_sentences_X, to_categorical(train_tags_y, len(tag2index)),\n",
    "                    batch_size=128, epochs=5, validation_split=0.2)"
   ]
  },
  {
   "cell_type": "code",
   "execution_count": 96,
   "id": "1ac47281",
   "metadata": {},
   "outputs": [
    {
     "name": "stdout",
     "output_type": "stream",
     "text": [
      "24/24 [==============================] - 6s 233ms/step - loss: 0.0351 - accuracy: 0.9923\n",
      "accuracy: 99.2280900478363\n"
     ]
    }
   ],
   "source": [
    "scores = model.evaluate(test_sentences_X, to_categorical(test_tags_y, len(tag2index)))\n",
    "print(f\"{model.metrics_names[1]}: {scores[1] * 100}\")"
   ]
  },
  {
   "cell_type": "code",
   "execution_count": 78,
   "id": "be3569a3",
   "metadata": {},
   "outputs": [],
   "source": [
    "import matplotlib.pyplot as plt"
   ]
  },
  {
   "cell_type": "code",
   "execution_count": 97,
   "id": "4f9a948b",
   "metadata": {},
   "outputs": [
    {
     "data": {
      "image/png": "[encoded data removed]",
      "text/plain": [
       "<Figure size 1200x600 with 2 Axes>"
      ]
     },
     "metadata": {},
     "output_type": "display_data"
    }
   ],
   "source": [
    "# Plot training and validation loss\n",
    "plt.figure(figsize=(12, 6))\n",
    "plt.subplot(1, 2, 1)\n",
    "plt.plot(history.history['loss'], label='Training Loss')\n",
    "plt.plot(history.history['val_loss'], label='Validation Loss')\n",
    "plt.title('Training and Validation Loss')\n",
    "plt.xlabel('Epoch')\n",
    "plt.ylabel('Loss')\n",
    "plt.legend()\n",
    "\n",
    "# Plot training and validation accuracy\n",
    "plt.subplot(1, 2, 2)\n",
    "plt.plot(history.history['accuracy'], label='Training Accuracy')\n",
    "plt.plot(history.history['val_accuracy'], label='Validation Accuracy')\n",
    "plt.title('Training and Validation Accuracy')\n",
    "plt.xlabel('Epoch')\n",
    "plt.ylabel('Accuracy')\n",
    "plt.legend()\n",
    "\n",
    "plt.tight_layout()\n",
    "plt.show()"
   ]
  }
 ],
 "metadata": {
  "colab": {
   "provenance": []
  },
  "kernelspec": {
   "display_name": "Python 3 (ipykernel)",
   "language": "python",
   "name": "python3"
  },
  "language_info": {
   "codemirror_mode": {
    "name": "ipython",
    "version": 3
   },
   "file_extension": ".py",
   "mimetype": "text/x-python",
   "name": "python",
   "nbconvert_exporter": "python",
   "pygments_lexer": "ipython3",
   "version": "3.11.4"
  }
 },
 "nbformat": 4,
 "nbformat_minor": 5
}
